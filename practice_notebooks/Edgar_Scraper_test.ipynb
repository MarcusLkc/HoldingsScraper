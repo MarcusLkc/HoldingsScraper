{
 "cells": [
  {
   "cell_type": "code",
   "execution_count": 1,
   "metadata": {},
   "outputs": [],
   "source": [
    "import requests\n",
    "from bs4 import BeautifulSoup"
   ]
  },
  {
   "cell_type": "code",
   "execution_count": 2,
   "metadata": {},
   "outputs": [],
   "source": [
    "url = \"https://www.sec.gov/cgi-bin/browse-edgar?action=getcompany&CIK={}&type=13F&dateb=&owner=exclude&count=100\""
   ]
  },
  {
   "cell_type": "code",
   "execution_count": 4,
   "metadata": {},
   "outputs": [],
   "source": [
    "ticker = '0000908551'"
   ]
  },
  {
   "cell_type": "code",
   "execution_count": 7,
   "metadata": {},
   "outputs": [
    {
     "data": {
      "text/plain": [
       "'https://www.sec.gov/cgi-bin/browse-edgar?action=getcompany&CIK=1344&type=13F&dateb=&owner=exclude&count=100'"
      ]
     },
     "execution_count": 7,
     "metadata": {},
     "output_type": "execute_result"
    }
   ],
   "source": [
    "url.format(1344)"
   ]
  },
  {
   "cell_type": "code",
   "execution_count": 8,
   "metadata": {},
   "outputs": [],
   "source": [
    "resp = requests.get(url.format(ticker))"
   ]
  },
  {
   "cell_type": "code",
   "execution_count": 10,
   "metadata": {},
   "outputs": [],
   "source": [
    "soup = BeautifulSoup(resp.text, 'html.parser')"
   ]
  },
  {
   "cell_type": "code",
   "execution_count": 11,
   "metadata": {},
   "outputs": [
    {
     "data": {
      "text/plain": [
       "'<!DOCTYPE HTML PUBLIC \"-//W3C//DTD HTML 4.01 Transitional//EN\" \"http://www.w3.org/TR/html4/loose.dtd\">\\n<html lang=\"ENG\">\\n <head>\\n  <title>\\n   EDGAR Search Results\\n  </title>\\n  <link href=\"/include/interactive.css\" rel=\"stylesheet\" type=\"text/css\"/>\\n  <link href=\"/cgi-bin/browse-edgar?action=getcompany&amp;CIK=0000908551&amp;type=13F%25&amp;dateb=&amp;owner=exclude&amp;count=100&amp;output=atom\" rel=\"alternate\" title=\"ATOM\" type=\"application/atom+xml\"/>\\n </head>\\n <body style=\"margin: 0\">\\n  <!-- SEC Web Analytics - For information please visit: http://www.sec.gov/privacy.htm#collectedinfo -->\\n  <noscript>\\n   <iframe height=\"0\" src=\"//www.googletagmanager.com/ns.html?id=GTM-TD3BKV\" style=\"display:none;visibility:hidden\" width=\"0\">\\n   </iframe>\\n  </noscript>\\n  <script>\\n   (function(w,d,s,l,i){w[l]=w[l]||[];w[l].push({\\'gtm.start\\':\\nnew Date().getTime(),event:\\'gtm.js\\'});var f=d.getElementsByTagName(s)[0],\\nj=d.createElement(s),dl=l!=\\'dataLayer\\'?\\'&l=\\'+l:\\'\\';j.async=true;j.src=\\n\\'//www.googletagmanager.com/gtm.js?id=\\'+i+dl;f.parentNode.insertBefore(j,f);\\n})(window,document,\\'script\\',\\'dataLayer\\',\\'GTM-TD3BKV\\');\\n  </script>\\n  <!-- End SEC Web Analytics -->\\n  <!-- BEGIN BANNER -->\\n  <div id=\"headerTop\">\\n   <div id=\"Nav\">\\n    <a href=\"/index.htm\">\\n     Home\\n    </a>\\n    |\\n    <a href=\"/cgi-bin/browse-edgar?action=getcurrent\">\\n     Latest Filings\\n    </a>\\n    |\\n    <a href=\"javascript:history.back()\">\\n     Previous Page\\n    </a>\\n   </div>\\n   <div id=\"seal\">\\n    <a href=\"/index.htm\">\\n     <img alt=\"SEC Seal\" border=\"0\" src=\"/images/sealTop.gif\"/>\\n    </a>\\n   </div>\\n   <div id=\"secWordGraphic\">\\n    <img alt=\"SEC Banner\" src=\"/images/bannerTitle.gif\"/>\\n   </div>\\n  </div>\\n  <div id=\"headerBottom\">\\n   <div id=\"secBetaGraphic\">\\n    <a href=\"/cgi-bin/browse-edgar?action=getcompany&amp;CIK=0000908551&amp;type=13F%25&amp;dateb=&amp;owner=exclude&amp;count=100&amp;output=xml\">\\n     <img alt=\"EDGAR USA Search\" src=\"/images/edgar_button_usasearch.png\" style=\"border-style: none\"/>\\n    </a>\\n   </div>\\n   <div id=\"PageTitle\">\\n    EDGAR Search Results\\n   </div>\\n  </div>\\n  <!-- END BANNER -->\\n  <!-- BEGIN BREADCRUMBS -->\\n  <div id=\"breadCrumbs\">\\n   <ul>\\n    <li>\\n     <a href=\"/index.htm\">\\n      SEC Home\\n     </a>\\n     »\\n    </li>\\n    <li>\\n     <a href=\"/edgar/searchedgar/webusers.htm\">\\n      Search the Next-Generation EDGAR System\\n     </a>\\n     »\\n    </li>\\n    <li>\\n     <a href=\"/edgar/searchedgar/companysearch.html\">\\n      Company Search\\n     </a>\\n     »\\n    </li>\\n    <li class=\"last\">\\n     Current Page\\n    </li>\\n   </ul>\\n  </div>\\n  <!-- END BREADCRUMBS -->\\n  <div id=\"contentDiv\">\\n   <!-- START FILER DIV -->\\n   <div style=\"margin: 15px 0 10px 0; padding: 3px; overflow: hidden; background-color: #BCD6F8;\">\\n    <div class=\"mailer\">\\n     Mailing Address\\n     <span class=\"mailerAddress\">\\n      100 MANSION ROAD EAST\\n     </span>\\n     <span class=\"mailerAddress\">\\n      HERSHEY PA 17033\\n     </span>\\n    </div>\\n    <div class=\"mailer\">\\n     Business Address\\n     <span class=\"mailerAddress\">\\n      P.O. BOX 445\\n     </span>\\n     <span class=\"mailerAddress\">\\n      HERSHEY PA 17033\\n     </span>\\n     <span class=\"mailerAddress\">\\n      7175201125\\n     </span>\\n    </div>\\n    <div class=\"companyInfo\">\\n     <span class=\"companyName\">\\n      HERSHEY TRUST CO\\n      <acronym title=\"Central Index Key\">\\n       CIK\\n      </acronym>\\n      #:\\n      <a href=\"/cgi-bin/browse-edgar?action=getcompany&amp;CIK=0000908551&amp;owner=exclude&amp;count=100\">\\n       0000908551 (see all company filings)\\n      </a>\\n     </span>\\n     <p class=\"identInfo\">\\n      State location:\\n      <a href=\"/cgi-bin/browse-edgar?action=getcompany&amp;State=PA&amp;owner=exclude&amp;count=100\">\\n       PA\\n      </a>\\n      | Fiscal Year End: 1231\\n      <br/>\\n      Get\\n      <a href=\"/cgi-bin/own-disp?action=getowner&amp;CIK=0000908551\">\\n       <b>\\n        insider transactions\\n       </b>\\n      </a>\\n      for this\\n      <b>\\n       reporting owner\\n      </b>\\n      .\\n     </p>\\n    </div>\\n   </div>\\n   <div style=\"width: 100%;\">\\n    <form action=\"/cgi-bin/browse-edgar\" method=\"GET\">\\n     <input name=\"action\" type=\"hidden\" value=\"getcompany\"/>\\n     <input name=\"CIK\" type=\"hidden\" value=\"0000908551\"/>\\n     <table style=\"margin: 0px; background:#FFFFFF; border: 1px solid #BCD6F8; width: 100%;\">\\n      <tr>\\n       <td>\\n        Filter Results:\\n       </td>\\n       <td>\\n        <label for=\"type\">\\n         Filing Type:\\n        </label>\\n        <br/>\\n        <input id=\"type\" name=\"type\" size=\"10\" tabindex=\"1\" value=\"13F\"/>\\n       </td>\\n       <td>\\n        <label for=\"prior_to\">\\n         Prior to:\\n        </label>\\n        (YYYYMMDD)\\n        <br/>\\n        <input id=\"prior_to\" name=\"dateb\" size=\"10\" tabindex=\"2\" value=\"\"/>\\n       </td>\\n       <td>\\n        Ownership?\\n        <br/>\\n        <input id=\"include\" name=\"owner\" tabindex=\"3\" type=\"radio\" value=\"include\"/>\\n        <label for=\"include\">\\n         include\\n        </label>\\n        <input checked=\"checked\" id=\"exclude\" name=\"owner\" tabindex=\"4\" type=\"radio\" value=\"exclude\"/>\\n        <label for=\"exclude\">\\n         exclude\\n        </label>\\n        <input id=\"only\" name=\"owner\" tabindex=\"5\" type=\"radio\" value=\"only\">\\n         <label for=\"only\">\\n          only\\n         </label>\\n         <td>\\n          <label for=\"count\">\\n           Limit Results Per Page\\n          </label>\\n          <br/>\\n          <select id=\"count\" name=\"count\" tabindex=\"6\">\\n           <option value=\"10\">\\n            10 Entries\\n            <option value=\"20\">\\n             20 Entries\\n             <option value=\"40\">\\n              40 Entries\\n              <option value=\"80\">\\n               80 Entries\\n               <option selected=\"\" value=\"100\">\\n                100 Entries\\n               </option>\\n              </option>\\n             </option>\\n            </option>\\n           </option>\\n          </select>\\n         </td>\\n         <td style=\"text-align: middle;\">\\n          <input type=\"submit\" value=\"Search\"/>\\n          <br/>\\n          <input onclick=\"this.form.type.value=\\'\\'\" type=\"submit\" value=\"Show All\"/>\\n         </td>\\n        </input>\\n       </td>\\n      </tr>\\n     </table>\\n    </form>\\n   </div>\\n   <!-- END FILER DIV -->\\n   <div style=\"margin-top: 5px; margin-bottom: 5px;\">\\n    <form>\\n     <table border=\"0\" width=\"100%\">\\n      <tr>\\n       <td>\\n        Items 1 - 48\\n        <a href=\"/cgi-bin/browse-edgar?action=getcompany&amp;CIK=0000908551&amp;type=13F%25&amp;dateb=&amp;owner=exclude&amp;start=0&amp;count=100&amp;output=atom\">\\n         <img align=\"top\" alt=\"0000908551 Filings\" border=\"0\" src=\"/images/rss-feed-icon-14x14.png\"/>\\n         RSS Feed\\n        </a>\\n       </td>\\n      </tr>\\n     </table>\\n    </form>\\n   </div>\\n   <div id=\"seriesDiv\" style=\"margin-top: 0px;\">\\n    <table class=\"tableFile2\" summary=\"Results\">\\n     <tr>\\n      <th scope=\"col\" width=\"7%\">\\n       Filings\\n      </th>\\n      <th scope=\"col\" width=\"10%\">\\n       Format\\n      </th>\\n      <th scope=\"col\">\\n       Description\\n      </th>\\n      <th scope=\"col\" width=\"10%\">\\n       Filing Date\\n      </th>\\n      <th scope=\"col\" width=\"15%\">\\n       File/Film Number\\n      </th>\\n     </tr>\\n     <tr>\\n      <td nowrap=\"nowrap\">\\n       13F-HR\\n      </td>\\n      <td nowrap=\"nowrap\">\\n       <a href=\"/Archives/edgar/data/908551/000090855118000006/0000908551-18-000006-index.htm\" id=\"documentsbutton\">\\n        Documents\\n       </a>\\n      </td>\\n      <td class=\"small\">\\n       Quarterly report filed by institutional managers, Holdings\\n       <br/>\\n       Acc-no: 0000908551-18-000006\\xa0(34 Act)\\xa0 Size: 8 KB\\n      </td>\\n      <td>\\n       2018-10-29\\n      </td>\\n      <td nowrap=\"nowrap\">\\n       <a href=\"/cgi-bin/browse-edgar?action=getcompany&amp;filenum=028-13140&amp;owner=exclude&amp;count=100\">\\n        028-13140\\n       </a>\\n       <br/>\\n       181143301\\n      </td>\\n     </tr>\\n     <tr class=\"blueRow\">\\n      <td nowrap=\"nowrap\">\\n       13F-HR\\n      </td>\\n      <td nowrap=\"nowrap\">\\n       <a href=\"/Archives/edgar/data/908551/000090855118000005/0000908551-18-000005-index.htm\" id=\"documentsbutton\">\\n        Documents\\n       </a>\\n      </td>\\n      <td class=\"small\">\\n       Quarterly report filed by institutional managers, Holdings\\n       <br>\\n        Acc-no: 0000908551-18-000005\\xa0(34 Act)\\xa0 Size: 7 KB\\n       </br>\\n      </td>\\n      <td>\\n       2018-07-26\\n      </td>\\n      <td nowrap=\"nowrap\">\\n       <a href=\"/cgi-bin/browse-edgar?action=getcompany&amp;filenum=028-13140&amp;owner=exclude&amp;count=100\">\\n        028-13140\\n       </a>\\n       <br/>\\n       18970696\\n      </td>\\n     </tr>\\n     <tr>\\n      <td nowrap=\"nowrap\">\\n       13F-HR\\n      </td>\\n      <td nowrap=\"nowrap\">\\n       <a href=\"/Archives/edgar/data/908551/000090855118000004/0000908551-18-000004-index.htm\" id=\"documentsbutton\">\\n        Documents\\n       </a>\\n      </td>\\n      <td class=\"small\">\\n       Quarterly report filed by institutional managers, Holdings\\n       <br>\\n        Acc-no: 0000908551-18-000004\\xa0(34 Act)\\xa0 Size: 6 KB\\n       </br>\\n      </td>\\n      <td>\\n       2018-05-02\\n      </td>\\n      <td nowrap=\"nowrap\">\\n       <a href=\"/cgi-bin/browse-edgar?action=getcompany&amp;filenum=028-13140&amp;owner=exclude&amp;count=100\">\\n        028-13140\\n       </a>\\n       <br/>\\n       18797877\\n      </td>\\n     </tr>\\n     <tr class=\"blueRow\">\\n      <td nowrap=\"nowrap\">\\n       13F-HR\\n      </td>\\n      <td nowrap=\"nowrap\">\\n       <a href=\"/Archives/edgar/data/908551/000090855118000003/0000908551-18-000003-index.htm\" id=\"documentsbutton\">\\n        Documents\\n       </a>\\n      </td>\\n      <td class=\"small\">\\n       Quarterly report filed by institutional managers, Holdings\\n       <br>\\n        Acc-no: 0000908551-18-000003\\xa0(34 Act)\\xa0 Size: 9 KB\\n       </br>\\n      </td>\\n      <td>\\n       2018-01-23\\n      </td>\\n      <td nowrap=\"nowrap\">\\n       <a href=\"/cgi-bin/browse-edgar?action=getcompany&amp;filenum=028-13140&amp;owner=exclude&amp;count=100\">\\n        028-13140\\n       </a>\\n       <br/>\\n       18542142\\n      </td>\\n     </tr>\\n     <tr>\\n      <td nowrap=\"nowrap\">\\n       13F-HR\\n      </td>\\n      <td nowrap=\"nowrap\">\\n       <a href=\"/Archives/edgar/data/908551/000090855117000007/0000908551-17-000007-index.htm\" id=\"documentsbutton\">\\n        Documents\\n       </a>\\n      </td>\\n      <td class=\"small\">\\n       Quarterly report filed by institutional managers, Holdings\\n       <br>\\n        Acc-no: 0000908551-17-000007\\xa0(34 Act)\\xa0 Size: 8 KB\\n       </br>\\n      </td>\\n      <td>\\n       2017-10-24\\n      </td>\\n      <td nowrap=\"nowrap\">\\n       <a href=\"/cgi-bin/browse-edgar?action=getcompany&amp;filenum=028-13140&amp;owner=exclude&amp;count=100\">\\n        028-13140\\n       </a>\\n       <br/>\\n       171150248\\n      </td>\\n     </tr>\\n     <tr class=\"blueRow\">\\n      <td nowrap=\"nowrap\">\\n       13F-HR\\n      </td>\\n      <td nowrap=\"nowrap\">\\n       <a href=\"/Archives/edgar/data/908551/000090855117000005/0000908551-17-000005-index.htm\" id=\"documentsbutton\">\\n        Documents\\n       </a>\\n      </td>\\n      <td class=\"small\">\\n       Quarterly report filed by institutional managers, Holdings\\n       <br>\\n        Acc-no: 0000908551-17-000005\\xa0(34 Act)\\xa0 Size: 9 KB\\n       </br>\\n      </td>\\n      <td>\\n       2017-07-24\\n      </td>\\n      <td nowrap=\"nowrap\">\\n       <a href=\"/cgi-bin/browse-edgar?action=getcompany&amp;filenum=028-13140&amp;owner=exclude&amp;count=100\">\\n        028-13140\\n       </a>\\n       <br/>\\n       17978310\\n      </td>\\n     </tr>\\n     <tr>\\n      <td nowrap=\"nowrap\">\\n       13F-HR\\n      </td>\\n      <td nowrap=\"nowrap\">\\n       <a href=\"/Archives/edgar/data/908551/000090855117000004/0000908551-17-000004-index.htm\" id=\"documentsbutton\">\\n        Documents\\n       </a>\\n      </td>\\n      <td class=\"small\">\\n       Quarterly report filed by institutional managers, Holdings\\n       <br>\\n        Acc-no: 0000908551-17-000004\\xa0(34 Act)\\xa0 Size: 8 KB\\n       </br>\\n      </td>\\n      <td>\\n       2017-04-25\\n      </td>\\n      <td nowrap=\"nowrap\">\\n       <a href=\"/cgi-bin/browse-edgar?action=getcompany&amp;filenum=028-13140&amp;owner=exclude&amp;count=100\">\\n        028-13140\\n       </a>\\n       <br/>\\n       17780939\\n      </td>\\n     </tr>\\n     <tr class=\"blueRow\">\\n      <td nowrap=\"nowrap\">\\n       13F-HR\\n      </td>\\n      <td nowrap=\"nowrap\">\\n       <a href=\"/Archives/edgar/data/908551/000090855117000001/0000908551-17-000001-index.htm\" id=\"documentsbutton\">\\n        Documents\\n       </a>\\n      </td>\\n      <td class=\"small\">\\n       Quarterly report filed by institutional managers, Holdings\\n       <br>\\n        Acc-no: 0000908551-17-000001\\xa0(34 Act)\\xa0 Size: 10 KB\\n       </br>\\n      </td>\\n      <td>\\n       2017-01-24\\n      </td>\\n      <td nowrap=\"nowrap\">\\n       <a href=\"/cgi-bin/browse-edgar?action=getcompany&amp;filenum=028-13140&amp;owner=exclude&amp;count=100\">\\n        028-13140\\n       </a>\\n       <br/>\\n       17542622\\n      </td>\\n     </tr>\\n     <tr>\\n      <td nowrap=\"nowrap\">\\n       13F-HR\\n      </td>\\n      <td nowrap=\"nowrap\">\\n       <a href=\"/Archives/edgar/data/908551/000090855116000013/0000908551-16-000013-index.htm\" id=\"documentsbutton\">\\n        Documents\\n       </a>\\n      </td>\\n      <td class=\"small\">\\n       Quarterly report filed by institutional managers, Holdings\\n       <br>\\n        Acc-no: 0000908551-16-000013\\xa0(34 Act)\\xa0 Size: 8 KB\\n       </br>\\n      </td>\\n      <td>\\n       2016-10-21\\n      </td>\\n      <td nowrap=\"nowrap\">\\n       <a href=\"/cgi-bin/browse-edgar?action=getcompany&amp;filenum=028-13140&amp;owner=exclude&amp;count=100\">\\n        028-13140\\n       </a>\\n       <br/>\\n       161945807\\n      </td>\\n     </tr>\\n     <tr class=\"blueRow\">\\n      <td nowrap=\"nowrap\">\\n       13F-HR\\n      </td>\\n      <td nowrap=\"nowrap\">\\n       <a href=\"/Archives/edgar/data/908551/000090855116000012/0000908551-16-000012-index.htm\" id=\"documentsbutton\">\\n        Documents\\n       </a>\\n      </td>\\n      <td class=\"small\">\\n       Quarterly report filed by institutional managers, Holdings\\n       <br>\\n        Acc-no: 0000908551-16-000012\\xa0(34 Act)\\xa0 Size: 9 KB\\n       </br>\\n      </td>\\n      <td>\\n       2016-07-21\\n      </td>\\n      <td nowrap=\"nowrap\">\\n       <a href=\"/cgi-bin/browse-edgar?action=getcompany&amp;filenum=028-13140&amp;owner=exclude&amp;count=100\">\\n        028-13140\\n       </a>\\n       <br/>\\n       161776683\\n      </td>\\n     </tr>\\n     <tr>\\n      <td nowrap=\"nowrap\">\\n       13F-HR\\n      </td>\\n      <td nowrap=\"nowrap\">\\n       <a href=\"/Archives/edgar/data/908551/000090855116000011/0000908551-16-000011-index.htm\" id=\"documentsbutton\">\\n        Documents\\n       </a>\\n      </td>\\n      <td class=\"small\">\\n       Quarterly report filed by institutional managers, Holdings\\n       <br>\\n        Acc-no: 0000908551-16-000011\\xa0(34 Act)\\xa0 Size: 7 KB\\n       </br>\\n      </td>\\n      <td>\\n       2016-04-28\\n      </td>\\n      <td nowrap=\"nowrap\">\\n       <a href=\"/cgi-bin/browse-edgar?action=getcompany&amp;filenum=028-13140&amp;owner=exclude&amp;count=100\">\\n        028-13140\\n       </a>\\n       <br/>\\n       161599035\\n      </td>\\n     </tr>\\n     <tr class=\"blueRow\">\\n      <td nowrap=\"nowrap\">\\n       13F-HR\\n      </td>\\n      <td nowrap=\"nowrap\">\\n       <a href=\"/Archives/edgar/data/908551/000090855116000008/0000908551-16-000008-index.htm\" id=\"documentsbutton\">\\n        Documents\\n       </a>\\n      </td>\\n      <td class=\"small\">\\n       Quarterly report filed by institutional managers, Holdings\\n       <br>\\n        Acc-no: 0000908551-16-000008\\xa0(34 Act)\\xa0 Size: 8 KB\\n       </br>\\n      </td>\\n      <td>\\n       2016-01-20\\n      </td>\\n      <td nowrap=\"nowrap\">\\n       <a href=\"/cgi-bin/browse-edgar?action=getcompany&amp;filenum=028-13140&amp;owner=exclude&amp;count=100\">\\n        028-13140\\n       </a>\\n       <br/>\\n       161350062\\n      </td>\\n     </tr>\\n     <tr>\\n      <td nowrap=\"nowrap\">\\n       13F-HR\\n      </td>\\n      <td nowrap=\"nowrap\">\\n       <a href=\"/Archives/edgar/data/908551/000090855115000006/0000908551-15-000006-index.htm\" id=\"documentsbutton\">\\n        Documents\\n       </a>\\n      </td>\\n      <td class=\"small\">\\n       Quarterly report filed by institutional managers, Holdings\\n       <br>\\n        Acc-no: 0000908551-15-000006\\xa0(34 Act)\\xa0 Size: 8 KB\\n       </br>\\n      </td>\\n      <td>\\n       2015-10-21\\n      </td>\\n      <td nowrap=\"nowrap\">\\n       <a href=\"/cgi-bin/browse-edgar?action=getcompany&amp;filenum=028-13140&amp;owner=exclude&amp;count=100\">\\n        028-13140\\n       </a>\\n       <br/>\\n       151167575\\n      </td>\\n     </tr>\\n     <tr class=\"blueRow\">\\n      <td nowrap=\"nowrap\">\\n       13F-HR\\n      </td>\\n      <td nowrap=\"nowrap\">\\n       <a href=\"/Archives/edgar/data/908551/000090855115000005/0000908551-15-000005-index.htm\" id=\"documentsbutton\">\\n        Documents\\n       </a>\\n      </td>\\n      <td class=\"small\">\\n       Quarterly report filed by institutional managers, Holdings\\n       <br>\\n        Acc-no: 0000908551-15-000005\\xa0(34 Act)\\xa0 Size: 9 KB\\n       </br>\\n      </td>\\n      <td>\\n       2015-07-30\\n      </td>\\n      <td nowrap=\"nowrap\">\\n       <a href=\"/cgi-bin/browse-edgar?action=getcompany&amp;filenum=028-13140&amp;owner=exclude&amp;count=100\">\\n        028-13140\\n       </a>\\n       <br/>\\n       151014666\\n      </td>\\n     </tr>\\n     <tr>\\n      <td nowrap=\"nowrap\">\\n       13F-HR\\n      </td>\\n      <td nowrap=\"nowrap\">\\n       <a href=\"/Archives/edgar/data/908551/000090855115000004/0000908551-15-000004-index.htm\" id=\"documentsbutton\">\\n        Documents\\n       </a>\\n      </td>\\n      <td class=\"small\">\\n       Quarterly report filed by institutional managers, Holdings\\n       <br>\\n        Acc-no: 0000908551-15-000004\\xa0(34 Act)\\xa0 Size: 9 KB\\n       </br>\\n      </td>\\n      <td>\\n       2015-04-21\\n      </td>\\n      <td nowrap=\"nowrap\">\\n       <a href=\"/cgi-bin/browse-edgar?action=getcompany&amp;filenum=028-13140&amp;owner=exclude&amp;count=100\">\\n        028-13140\\n       </a>\\n       <br/>\\n       15782224\\n      </td>\\n     </tr>\\n     <tr class=\"blueRow\">\\n      <td nowrap=\"nowrap\">\\n       13F-HR\\n      </td>\\n      <td nowrap=\"nowrap\">\\n       <a href=\"/Archives/edgar/data/908551/000090855115000001/0000908551-15-000001-index.htm\" id=\"documentsbutton\">\\n        Documents\\n       </a>\\n      </td>\\n      <td class=\"small\">\\n       Quarterly report filed by institutional managers, Holdings\\n       <br>\\n        Acc-no: 0000908551-15-000001\\xa0(34 Act)\\xa0 Size: 9 KB\\n       </br>\\n      </td>\\n      <td>\\n       2015-01-21\\n      </td>\\n      <td nowrap=\"nowrap\">\\n       <a href=\"/cgi-bin/browse-edgar?action=getcompany&amp;filenum=028-13140&amp;owner=exclude&amp;count=100\">\\n        028-13140\\n       </a>\\n       <br/>\\n       15537601\\n      </td>\\n     </tr>\\n     <tr>\\n      <td nowrap=\"nowrap\">\\n       13F-HR\\n      </td>\\n      <td nowrap=\"nowrap\">\\n       <a href=\"/Archives/edgar/data/908551/000090855114000006/0000908551-14-000006-index.htm\" id=\"documentsbutton\">\\n        Documents\\n       </a>\\n      </td>\\n      <td class=\"small\">\\n       Quarterly report filed by institutional managers, Holdings\\n       <br>\\n        Acc-no: 0000908551-14-000006\\xa0(34 Act)\\xa0 Size: 7 KB\\n       </br>\\n      </td>\\n      <td>\\n       2014-10-23\\n      </td>\\n      <td nowrap=\"nowrap\">\\n       <a href=\"/cgi-bin/browse-edgar?action=getcompany&amp;filenum=028-13140&amp;owner=exclude&amp;count=100\">\\n        028-13140\\n       </a>\\n       <br/>\\n       141169003\\n      </td>\\n     </tr>\\n     <tr class=\"blueRow\">\\n      <td nowrap=\"nowrap\">\\n       13F-HR\\n      </td>\\n      <td nowrap=\"nowrap\">\\n       <a href=\"/Archives/edgar/data/908551/000090855114000005/0000908551-14-000005-index.htm\" id=\"documentsbutton\">\\n        Documents\\n       </a>\\n      </td>\\n      <td class=\"small\">\\n       Quarterly report filed by institutional managers, Holdings\\n       <br>\\n        Acc-no: 0000908551-14-000005\\xa0(34 Act)\\xa0 Size: 7 KB\\n       </br>\\n      </td>\\n      <td>\\n       2014-07-18\\n      </td>\\n      <td nowrap=\"nowrap\">\\n       <a href=\"/cgi-bin/browse-edgar?action=getcompany&amp;filenum=028-13140&amp;owner=exclude&amp;count=100\">\\n        028-13140\\n       </a>\\n       <br/>\\n       14982549\\n      </td>\\n     </tr>\\n     <tr>\\n      <td nowrap=\"nowrap\">\\n       13F-HR\\n      </td>\\n      <td nowrap=\"nowrap\">\\n       <a href=\"/Archives/edgar/data/908551/000090855114000004/0000908551-14-000004-index.htm\" id=\"documentsbutton\">\\n        Documents\\n       </a>\\n      </td>\\n      <td class=\"small\">\\n       Quarterly report filed by institutional managers, Holdings\\n       <br>\\n        Acc-no: 0000908551-14-000004\\xa0(34 Act)\\xa0 Size: 7 KB\\n       </br>\\n      </td>\\n      <td>\\n       2014-04-22\\n      </td>\\n      <td nowrap=\"nowrap\">\\n       <a href=\"/cgi-bin/browse-edgar?action=getcompany&amp;filenum=028-13140&amp;owner=exclude&amp;count=100\">\\n        028-13140\\n       </a>\\n       <br/>\\n       14775619\\n      </td>\\n     </tr>\\n     <tr class=\"blueRow\">\\n      <td nowrap=\"nowrap\">\\n       13F-HR\\n      </td>\\n      <td nowrap=\"nowrap\">\\n       <a href=\"/Archives/edgar/data/908551/000090855114000002/0000908551-14-000002-index.htm\" id=\"documentsbutton\">\\n        Documents\\n       </a>\\n      </td>\\n      <td class=\"small\">\\n       Quarterly report filed by institutional managers, Holdings\\n       <br>\\n        Acc-no: 0000908551-14-000002\\xa0(34 Act)\\xa0 Size: 7 KB\\n       </br>\\n      </td>\\n      <td>\\n       2014-01-22\\n      </td>\\n      <td nowrap=\"nowrap\">\\n       <a href=\"/cgi-bin/browse-edgar?action=getcompany&amp;filenum=028-13140&amp;owner=exclude&amp;count=100\">\\n        028-13140\\n       </a>\\n       <br/>\\n       14539905\\n      </td>\\n     </tr>\\n     <tr>\\n      <td nowrap=\"nowrap\">\\n       13F-HR/A\\n      </td>\\n      <td nowrap=\"nowrap\">\\n       <a href=\"/Archives/edgar/data/908551/000090855113000011/0000908551-13-000011-index.htm\" id=\"documentsbutton\">\\n        Documents\\n       </a>\\n      </td>\\n      <td class=\"small\">\\n       <b>\\n        [Amend]\\n       </b>\\n       Quarterly report filed by institutional managers, Holdings\\n       <br>\\n        Acc-no: 0000908551-13-000011\\xa0(34 Act)\\xa0 Size: 8 KB\\n       </br>\\n      </td>\\n      <td>\\n       2013-11-08\\n      </td>\\n      <td nowrap=\"nowrap\">\\n       <a href=\"/cgi-bin/browse-edgar?action=getcompany&amp;filenum=028-13140&amp;owner=exclude&amp;count=100\">\\n        028-13140\\n       </a>\\n       <br/>\\n       131204138\\n      </td>\\n     </tr>\\n     <tr class=\"blueRow\">\\n      <td nowrap=\"nowrap\">\\n       13F-HR\\n      </td>\\n      <td nowrap=\"nowrap\">\\n       <a href=\"/Archives/edgar/data/908551/000090855113000010/0000908551-13-000010-index.htm\" id=\"documentsbutton\">\\n        Documents\\n       </a>\\n      </td>\\n      <td class=\"small\">\\n       Quarterly report filed by institutional managers, Holdings\\n       <br>\\n        Acc-no: 0000908551-13-000010\\xa0(34 Act)\\xa0 Size: 53 KB\\n       </br>\\n      </td>\\n      <td>\\n       2013-10-21\\n      </td>\\n      <td nowrap=\"nowrap\">\\n       <a href=\"/cgi-bin/browse-edgar?action=getcompany&amp;filenum=028-13140&amp;owner=exclude&amp;count=100\">\\n        028-13140\\n       </a>\\n       <br/>\\n       131160742\\n      </td>\\n     </tr>\\n     <tr>\\n      <td nowrap=\"nowrap\">\\n       13F-HR\\n      </td>\\n      <td nowrap=\"nowrap\">\\n       <a href=\"/Archives/edgar/data/908551/000090855113000009/0000908551-13-000009-index.htm\" id=\"documentsbutton\">\\n        Documents\\n       </a>\\n      </td>\\n      <td class=\"small\">\\n       Quarterly report filed by institutional managers, Holdings\\n       <br>\\n        Acc-no: 0000908551-13-000009\\xa0(34 Act)\\xa0 Size: 53 KB\\n       </br>\\n      </td>\\n      <td>\\n       2013-08-14\\n      </td>\\n      <td nowrap=\"nowrap\">\\n       <a href=\"/cgi-bin/browse-edgar?action=getcompany&amp;filenum=028-13140&amp;owner=exclude&amp;count=100\">\\n        028-13140\\n       </a>\\n       <br/>\\n       131037281\\n      </td>\\n     </tr>\\n     <tr class=\"blueRow\">\\n      <td nowrap=\"nowrap\">\\n       13F-HR\\n      </td>\\n      <td nowrap=\"nowrap\">\\n       <a href=\"/Archives/edgar/data/908551/000090855113000005/0000908551-13-000005-index.htm\" id=\"documentsbutton\">\\n        Documents\\n       </a>\\n      </td>\\n      <td class=\"small\">\\n       Quarterly report filed by institutional managers, Holdings\\n       <br>\\n        Acc-no: 0000908551-13-000005\\xa0(34 Act)\\xa0 Size: 11 KB\\n       </br>\\n      </td>\\n      <td>\\n       2013-04-24\\n      </td>\\n      <td nowrap=\"nowrap\">\\n       <a href=\"/cgi-bin/browse-edgar?action=getcompany&amp;filenum=028-13140&amp;owner=exclude&amp;count=100\">\\n        028-13140\\n       </a>\\n       <br/>\\n       13777951\\n      </td>\\n     </tr>\\n     <tr>\\n      <td nowrap=\"nowrap\">\\n       13F-HR\\n      </td>\\n      <td nowrap=\"nowrap\">\\n       <a href=\"/Archives/edgar/data/908551/000090855113000001/0000908551-13-000001-index.htm\" id=\"documentsbutton\">\\n        Documents\\n       </a>\\n      </td>\\n      <td class=\"small\">\\n       Quarterly report filed by institutional managers, Holdings\\n       <br>\\n        Acc-no: 0000908551-13-000001\\xa0(34 Act)\\xa0 Size: 11 KB\\n       </br>\\n      </td>\\n      <td>\\n       2013-01-23\\n      </td>\\n      <td nowrap=\"nowrap\">\\n       <a href=\"/cgi-bin/browse-edgar?action=getcompany&amp;filenum=028-13140&amp;owner=exclude&amp;count=100\">\\n        028-13140\\n       </a>\\n       <br/>\\n       13542128\\n      </td>\\n     </tr>\\n     <tr class=\"blueRow\">\\n      <td nowrap=\"nowrap\">\\n       13F-HR\\n      </td>\\n      <td nowrap=\"nowrap\">\\n       <a href=\"/Archives/edgar/data/908551/000090855112000006/0000908551-12-000006-index.htm\" id=\"documentsbutton\">\\n        Documents\\n       </a>\\n      </td>\\n      <td class=\"small\">\\n       Quarterly report filed by institutional managers, Holdings\\n       <br>\\n        Acc-no: 0000908551-12-000006\\xa0(34 Act)\\xa0 Size: 86 KB\\n       </br>\\n      </td>\\n      <td>\\n       2012-10-24\\n      </td>\\n      <td nowrap=\"nowrap\">\\n       <a href=\"/cgi-bin/browse-edgar?action=getcompany&amp;filenum=028-13140&amp;owner=exclude&amp;count=100\">\\n        028-13140\\n       </a>\\n       <br/>\\n       121158344\\n      </td>\\n     </tr>\\n     <tr>\\n      <td nowrap=\"nowrap\">\\n       13F-HR\\n      </td>\\n      <td nowrap=\"nowrap\">\\n       <a href=\"/Archives/edgar/data/908551/000090855112000005/0000908551-12-000005-index.htm\" id=\"documentsbutton\">\\n        Documents\\n       </a>\\n      </td>\\n      <td class=\"small\">\\n       Quarterly report filed by institutional managers, Holdings\\n       <br>\\n        Acc-no: 0000908551-12-000005\\xa0(34 Act)\\xa0 Size: 95 KB\\n       </br>\\n      </td>\\n      <td>\\n       2012-08-14\\n      </td>\\n      <td nowrap=\"nowrap\">\\n       <a href=\"/cgi-bin/browse-edgar?action=getcompany&amp;filenum=028-13140&amp;owner=exclude&amp;count=100\">\\n        028-13140\\n       </a>\\n       <br/>\\n       121030786\\n      </td>\\n     </tr>\\n     <tr class=\"blueRow\">\\n      <td nowrap=\"nowrap\">\\n       13F-HR\\n      </td>\\n      <td nowrap=\"nowrap\">\\n       <a href=\"/Archives/edgar/data/908551/000090855112000004/0000908551-12-000004-index.htm\" id=\"documentsbutton\">\\n        Documents\\n       </a>\\n      </td>\\n      <td class=\"small\">\\n       Quarterly report filed by institutional managers, Holdings\\n       <br>\\n        Acc-no: 0000908551-12-000004\\xa0(34 Act)\\xa0 Size: 101 KB\\n       </br>\\n      </td>\\n      <td>\\n       2012-04-24\\n      </td>\\n      <td nowrap=\"nowrap\">\\n       <a href=\"/cgi-bin/browse-edgar?action=getcompany&amp;filenum=028-13140&amp;owner=exclude&amp;count=100\">\\n        028-13140\\n       </a>\\n       <br/>\\n       12774821\\n      </td>\\n     </tr>\\n     <tr>\\n      <td nowrap=\"nowrap\">\\n       13F-HR\\n      </td>\\n      <td nowrap=\"nowrap\">\\n       <a href=\"/Archives/edgar/data/908551/000090855112000002/0000908551-12-000002-index.htm\" id=\"documentsbutton\">\\n        Documents\\n       </a>\\n      </td>\\n      <td class=\"small\">\\n       Quarterly report filed by institutional managers, Holdings\\n       <br>\\n        Acc-no: 0000908551-12-000002\\xa0(34 Act)\\xa0 Size: 101 KB\\n       </br>\\n      </td>\\n      <td>\\n       2012-01-26\\n      </td>\\n      <td nowrap=\"nowrap\">\\n       <a href=\"/cgi-bin/browse-edgar?action=getcompany&amp;filenum=028-13140&amp;owner=exclude&amp;count=100\">\\n        028-13140\\n       </a>\\n       <br/>\\n       12546467\\n      </td>\\n     </tr>\\n     <tr class=\"blueRow\">\\n      <td nowrap=\"nowrap\">\\n       13F-HR/A\\n      </td>\\n      <td nowrap=\"nowrap\">\\n       <a href=\"/Archives/edgar/data/908551/000090855111000008/0000908551-11-000008-index.htm\" id=\"documentsbutton\">\\n        Documents\\n       </a>\\n      </td>\\n      <td class=\"small\">\\n       <b>\\n        [Amend]\\n       </b>\\n       Quarterly report filed by institutional managers, Holdings\\n       <br>\\n        Acc-no: 0000908551-11-000008\\xa0(34 Act)\\xa0 Size: 105 KB\\n       </br>\\n      </td>\\n      <td>\\n       2011-11-15\\n      </td>\\n      <td nowrap=\"nowrap\">\\n       <a href=\"/cgi-bin/browse-edgar?action=getcompany&amp;filenum=028-13140&amp;owner=exclude&amp;count=100\">\\n        028-13140\\n       </a>\\n       <br/>\\n       111206359\\n      </td>\\n     </tr>\\n     <tr>\\n      <td nowrap=\"nowrap\">\\n       13F-HR\\n      </td>\\n      <td nowrap=\"nowrap\">\\n       <a href=\"/Archives/edgar/data/908551/000090855111000007/0000908551-11-000007-index.htm\" id=\"documentsbutton\">\\n        Documents\\n       </a>\\n      </td>\\n      <td class=\"small\">\\n       Quarterly report filed by institutional managers, Holdings\\n       <br>\\n        Acc-no: 0000908551-11-000007\\xa0(34 Act)\\xa0 Size: 104 KB\\n       </br>\\n      </td>\\n      <td>\\n       2011-11-03\\n      </td>\\n      <td nowrap=\"nowrap\">\\n       <a href=\"/cgi-bin/browse-edgar?action=getcompany&amp;filenum=028-13140&amp;owner=exclude&amp;count=100\">\\n        028-13140\\n       </a>\\n       <br/>\\n       111177760\\n      </td>\\n     </tr>\\n     <tr class=\"blueRow\">\\n      <td nowrap=\"nowrap\">\\n       13F-HR\\n      </td>\\n      <td nowrap=\"nowrap\">\\n       <a href=\"/Archives/edgar/data/908551/000090855111000006/0000908551-11-000006-index.htm\" id=\"documentsbutton\">\\n        Documents\\n       </a>\\n      </td>\\n      <td class=\"small\">\\n       Quarterly report filed by institutional managers, Holdings\\n       <br>\\n        Acc-no: 0000908551-11-000006\\xa0(34 Act)\\xa0 Size: 118 KB\\n       </br>\\n      </td>\\n      <td>\\n       2011-08-02\\n      </td>\\n      <td nowrap=\"nowrap\">\\n       <a href=\"/cgi-bin/browse-edgar?action=getcompany&amp;filenum=028-13140&amp;owner=exclude&amp;count=100\">\\n        028-13140\\n       </a>\\n       <br/>\\n       111002762\\n      </td>\\n     </tr>\\n     <tr>\\n      <td nowrap=\"nowrap\">\\n       13F-HR\\n      </td>\\n      <td nowrap=\"nowrap\">\\n       <a href=\"/Archives/edgar/data/908551/000090855111000005/0000908551-11-000005-index.htm\" id=\"documentsbutton\">\\n        Documents\\n       </a>\\n      </td>\\n      <td class=\"small\">\\n       Quarterly report filed by institutional managers, Holdings\\n       <br>\\n        Acc-no: 0000908551-11-000005\\xa0(34 Act)\\xa0 Size: 131 KB\\n       </br>\\n      </td>\\n      <td>\\n       2011-04-20\\n      </td>\\n      <td nowrap=\"nowrap\">\\n       <a href=\"/cgi-bin/browse-edgar?action=getcompany&amp;filenum=028-13140&amp;owner=exclude&amp;count=100\">\\n        028-13140\\n       </a>\\n       <br/>\\n       11769484\\n      </td>\\n     </tr>\\n     <tr class=\"blueRow\">\\n      <td nowrap=\"nowrap\">\\n       13F-HR\\n      </td>\\n      <td nowrap=\"nowrap\">\\n       <a href=\"/Archives/edgar/data/908551/000090855111000002/0000908551-11-000002-index.htm\" id=\"documentsbutton\">\\n        Documents\\n       </a>\\n      </td>\\n      <td class=\"small\">\\n       Quarterly report filed by institutional managers, Holdings\\n       <br>\\n        Acc-no: 0000908551-11-000002\\xa0(34 Act)\\xa0 Size: 128 KB\\n       </br>\\n      </td>\\n      <td>\\n       2011-01-14\\n      </td>\\n      <td nowrap=\"nowrap\">\\n       <a href=\"/cgi-bin/browse-edgar?action=getcompany&amp;filenum=028-13140&amp;owner=exclude&amp;count=100\">\\n        028-13140\\n       </a>\\n       <br/>\\n       11529625\\n      </td>\\n     </tr>\\n     <tr>\\n      <td nowrap=\"nowrap\">\\n       13F-HR/A\\n      </td>\\n      <td nowrap=\"nowrap\">\\n       <a href=\"/Archives/edgar/data/908551/000090855110000013/0000908551-10-000013-index.htm\" id=\"documentsbutton\">\\n        Documents\\n       </a>\\n      </td>\\n      <td class=\"small\">\\n       <b>\\n        [Amend]\\n       </b>\\n       Quarterly report filed by institutional managers, Holdings\\n       <br>\\n        Acc-no: 0000908551-10-000013\\xa0(34 Act)\\xa0 Size: 131 KB\\n       </br>\\n      </td>\\n      <td>\\n       2010-10-27\\n      </td>\\n      <td nowrap=\"nowrap\">\\n       <a href=\"/cgi-bin/browse-edgar?action=getcompany&amp;filenum=028-13140&amp;owner=exclude&amp;count=100\">\\n        028-13140\\n       </a>\\n       <br/>\\n       101145180\\n      </td>\\n     </tr>\\n     <tr class=\"blueRow\">\\n      <td nowrap=\"nowrap\">\\n       13F-HR\\n      </td>\\n      <td nowrap=\"nowrap\">\\n       <a href=\"/Archives/edgar/data/908551/000090855110000011/0000908551-10-000011-index.htm\" id=\"documentsbutton\">\\n        Documents\\n       </a>\\n      </td>\\n      <td class=\"small\">\\n       Quarterly report filed by institutional managers, Holdings\\n       <br>\\n        Acc-no: 0000908551-10-000011\\xa0(34 Act)\\xa0 Size: 131 KB\\n       </br>\\n      </td>\\n      <td>\\n       2010-10-14\\n      </td>\\n      <td nowrap=\"nowrap\">\\n       <a href=\"/cgi-bin/browse-edgar?action=getcompany&amp;filenum=028-13140&amp;owner=exclude&amp;count=100\">\\n        028-13140\\n       </a>\\n       <br/>\\n       101124037\\n      </td>\\n     </tr>\\n     <tr>\\n      <td nowrap=\"nowrap\">\\n       13F-HR/A\\n      </td>\\n      <td nowrap=\"nowrap\">\\n       <a href=\"/Archives/edgar/data/908551/000090855110000009/0000908551-10-000009-index.htm\" id=\"documentsbutton\">\\n        Documents\\n       </a>\\n      </td>\\n      <td class=\"small\">\\n       <b>\\n        [Amend]\\n       </b>\\n       Quarterly report filed by institutional managers, Holdings\\n       <br>\\n        Acc-no: 0000908551-10-000009\\xa0(34 Act)\\xa0 Size: 80 KB\\n       </br>\\n      </td>\\n      <td>\\n       2010-08-10\\n      </td>\\n      <td nowrap=\"nowrap\">\\n       <a href=\"/cgi-bin/browse-edgar?action=getcompany&amp;filenum=028-13140&amp;owner=exclude&amp;count=100\">\\n        028-13140\\n       </a>\\n       <br/>\\n       101004855\\n      </td>\\n     </tr>\\n     <tr class=\"blueRow\">\\n      <td nowrap=\"nowrap\">\\n       13F-HR\\n      </td>\\n      <td nowrap=\"nowrap\">\\n       <a href=\"/Archives/edgar/data/908551/000090855110000008/0000908551-10-000008-index.htm\" id=\"documentsbutton\">\\n        Documents\\n       </a>\\n      </td>\\n      <td class=\"small\">\\n       Quarterly report filed by institutional managers, Holdings\\n       <br>\\n        Acc-no: 0000908551-10-000008\\xa0(34 Act)\\xa0 Size: 78 KB\\n       </br>\\n      </td>\\n      <td>\\n       2010-08-10\\n      </td>\\n      <td nowrap=\"nowrap\">\\n       <a href=\"/cgi-bin/browse-edgar?action=getcompany&amp;filenum=028-13140&amp;owner=exclude&amp;count=100\">\\n        028-13140\\n       </a>\\n       <br/>\\n       101004263\\n      </td>\\n     </tr>\\n     <tr>\\n      <td nowrap=\"nowrap\">\\n       13F-HR\\n      </td>\\n      <td nowrap=\"nowrap\">\\n       <a href=\"/Archives/edgar/data/908551/000090855110000003/0000908551-10-000003-index.htm\" id=\"documentsbutton\">\\n        Documents\\n       </a>\\n      </td>\\n      <td class=\"small\">\\n       Quarterly report filed by institutional managers, Holdings\\n       <br>\\n        Acc-no: 0000908551-10-000003\\xa0(34 Act)\\xa0 Size: 95 KB\\n       </br>\\n      </td>\\n      <td>\\n       2010-05-06\\n      </td>\\n      <td nowrap=\"nowrap\">\\n       <a href=\"/cgi-bin/browse-edgar?action=getcompany&amp;filenum=028-13140&amp;owner=exclude&amp;count=100\">\\n        028-13140\\n       </a>\\n       <br/>\\n       10804133\\n      </td>\\n     </tr>\\n     <tr class=\"blueRow\">\\n      <td nowrap=\"nowrap\">\\n       13F-HR\\n      </td>\\n      <td nowrap=\"nowrap\">\\n       <a href=\"/Archives/edgar/data/908551/000090855110000001/0000908551-10-000001-index.htm\" id=\"documentsbutton\">\\n        Documents\\n       </a>\\n      </td>\\n      <td class=\"small\">\\n       Quarterly report filed by institutional managers, Holdings\\n       <br>\\n        Acc-no: 0000908551-10-000001\\xa0(34 Act)\\xa0 Size: 96 KB\\n       </br>\\n      </td>\\n      <td>\\n       2010-01-26\\n      </td>\\n      <td nowrap=\"nowrap\">\\n       <a href=\"/cgi-bin/browse-edgar?action=getcompany&amp;filenum=028-13140&amp;owner=exclude&amp;count=100\">\\n        028-13140\\n       </a>\\n       <br/>\\n       10547206\\n      </td>\\n     </tr>\\n     <tr>\\n      <td nowrap=\"nowrap\">\\n       13F-HR\\n      </td>\\n      <td nowrap=\"nowrap\">\\n       <a href=\"/Archives/edgar/data/908551/000090855109000005/0000908551-09-000005-index.htm\" id=\"documentsbutton\">\\n        Documents\\n       </a>\\n      </td>\\n      <td class=\"small\">\\n       Quarterly report filed by institutional managers, Holdings\\n       <br>\\n        Acc-no: 0000908551-09-000005\\xa0(34 Act)\\xa0 Size: 86 KB\\n       </br>\\n      </td>\\n      <td>\\n       2009-10-26\\n      </td>\\n      <td nowrap=\"nowrap\">\\n       <a href=\"/cgi-bin/browse-edgar?action=getcompany&amp;filenum=028-13140&amp;owner=exclude&amp;count=100\">\\n        028-13140\\n       </a>\\n       <br/>\\n       091136683\\n      </td>\\n     </tr>\\n     <tr class=\"blueRow\">\\n      <td nowrap=\"nowrap\">\\n       13F-HR\\n      </td>\\n      <td nowrap=\"nowrap\">\\n       <a href=\"/Archives/edgar/data/908551/000090855109000004/0000908551-09-000004-index.htm\" id=\"documentsbutton\">\\n        Documents\\n       </a>\\n      </td>\\n      <td class=\"small\">\\n       Quarterly report filed by institutional managers, Holdings\\n       <br>\\n        Acc-no: 0000908551-09-000004\\xa0(34 Act)\\xa0 Size: 92 KB\\n       </br>\\n      </td>\\n      <td>\\n       2009-07-16\\n      </td>\\n      <td nowrap=\"nowrap\">\\n       <a href=\"/cgi-bin/browse-edgar?action=getcompany&amp;filenum=028-13140&amp;owner=exclude&amp;count=100\">\\n        028-13140\\n       </a>\\n       <br/>\\n       09947362\\n      </td>\\n     </tr>\\n     <tr>\\n      <td nowrap=\"nowrap\">\\n       13F-HR\\n      </td>\\n      <td nowrap=\"nowrap\">\\n       <a href=\"/Archives/edgar/data/908551/000090855109000003/0000908551-09-000003-index.htm\" id=\"documentsbutton\">\\n        Documents\\n       </a>\\n      </td>\\n      <td class=\"small\">\\n       Quarterly report filed by institutional managers, Holdings\\n       <br>\\n        Acc-no: 0000908551-09-000003\\xa0(34 Act)\\xa0 Size: 98 KB\\n       </br>\\n      </td>\\n      <td>\\n       2009-04-14\\n      </td>\\n      <td nowrap=\"nowrap\">\\n       <a href=\"/cgi-bin/browse-edgar?action=getcompany&amp;filenum=028-13140&amp;owner=exclude&amp;count=100\">\\n        028-13140\\n       </a>\\n       <br/>\\n       09748929\\n      </td>\\n     </tr>\\n     <tr class=\"blueRow\">\\n      <td nowrap=\"nowrap\">\\n       13F-HR\\n      </td>\\n      <td nowrap=\"nowrap\">\\n       <a href=\"/Archives/edgar/data/908551/000090855109000001/0000908551-09-000001-index.htm\" id=\"documentsbutton\">\\n        Documents\\n       </a>\\n      </td>\\n      <td class=\"small\">\\n       Quarterly report filed by institutional managers, Holdings\\n       <br>\\n        Acc-no: 0000908551-09-000001\\xa0(34 Act)\\xa0 Size: 111 KB\\n       </br>\\n      </td>\\n      <td>\\n       2009-01-13\\n      </td>\\n      <td nowrap=\"nowrap\">\\n       <a href=\"/cgi-bin/browse-edgar?action=getcompany&amp;filenum=028-13140&amp;owner=exclude&amp;count=100\">\\n        028-13140\\n       </a>\\n       <br/>\\n       09522849\\n      </td>\\n     </tr>\\n     <tr>\\n      <td nowrap=\"nowrap\">\\n       13F-HR\\n      </td>\\n      <td nowrap=\"nowrap\">\\n       <a href=\"/Archives/edgar/data/908551/000090855108000006/0000908551-08-000006-index.htm\" id=\"documentsbutton\">\\n        Documents\\n       </a>\\n      </td>\\n      <td class=\"small\">\\n       Quarterly report filed by institutional managers, Holdings\\n       <br>\\n        Acc-no: 0000908551-08-000006\\xa0(34 Act)\\xa0 Size: 118 KB\\n       </br>\\n      </td>\\n      <td>\\n       2008-10-14\\n      </td>\\n      <td nowrap=\"nowrap\">\\n       <a href=\"/cgi-bin/browse-edgar?action=getcompany&amp;filenum=028-13140&amp;owner=exclude&amp;count=100\">\\n        028-13140\\n       </a>\\n       <br/>\\n       081120182\\n      </td>\\n     </tr>\\n     <tr class=\"blueRow\">\\n      <td nowrap=\"nowrap\">\\n       13F-HR\\n      </td>\\n      <td nowrap=\"nowrap\">\\n       <a href=\"/Archives/edgar/data/908551/000090855108000005/0000908551-08-000005-index.htm\" id=\"documentsbutton\">\\n        Documents\\n       </a>\\n      </td>\\n      <td class=\"small\">\\n       Quarterly report filed by institutional managers, Holdings\\n       <br>\\n        Acc-no: 0000908551-08-000005\\xa0(34 Act)\\xa0 Size: 117 KB\\n       </br>\\n      </td>\\n      <td>\\n       2008-07-03\\n      </td>\\n      <td nowrap=\"nowrap\">\\n       <a href=\"/cgi-bin/browse-edgar?action=getcompany&amp;filenum=028-13140&amp;owner=exclude&amp;count=100\">\\n        028-13140\\n       </a>\\n       <br/>\\n       08938167\\n      </td>\\n     </tr>\\n     <tr>\\n      <td nowrap=\"nowrap\">\\n       13F-HR\\n      </td>\\n      <td nowrap=\"nowrap\">\\n       <a href=\"/Archives/edgar/data/908551/000090855108000004/0000908551-08-000004-index.htm\" id=\"documentsbutton\">\\n        Documents\\n       </a>\\n      </td>\\n      <td class=\"small\">\\n       Quarterly report filed by institutional managers, Holdings\\n       <br>\\n        Acc-no: 0000908551-08-000004\\xa0(34 Act)\\xa0 Size: 116 KB\\n       </br>\\n      </td>\\n      <td>\\n       2008-07-03\\n      </td>\\n      <td nowrap=\"nowrap\">\\n       <a href=\"/cgi-bin/browse-edgar?action=getcompany&amp;filenum=028-13140&amp;owner=exclude&amp;count=100\">\\n        028-13140\\n       </a>\\n       <br/>\\n       08938166\\n      </td>\\n     </tr>\\n     <tr class=\"blueRow\">\\n      <td nowrap=\"nowrap\">\\n       13F-HR\\n      </td>\\n      <td nowrap=\"nowrap\">\\n       <a href=\"/Archives/edgar/data/908551/000090855108000003/0000908551-08-000003-index.htm\" id=\"documentsbutton\">\\n        Documents\\n       </a>\\n      </td>\\n      <td class=\"small\">\\n       Quarterly report filed by institutional managers, Holdings\\n       <br>\\n        Acc-no: 0000908551-08-000003\\xa0(34 Act)\\xa0 Size: 117 KB\\n       </br>\\n      </td>\\n      <td>\\n       2008-07-03\\n      </td>\\n      <td nowrap=\"nowrap\">\\n       <a href=\"/cgi-bin/browse-edgar?action=getcompany&amp;filenum=028-13140&amp;owner=exclude&amp;count=100\">\\n        028-13140\\n       </a>\\n       <br/>\\n       08937511\\n      </td>\\n     </tr>\\n    </table>\\n   </div>\\n  </div>\\n  <!-- BEGIN FOOTER -->\\n  <div id=\"footer\">\\n   <div class=\"currentURL\">\\n    http://www.sec.gov/cgi-bin/browse-edgar\\n   </div>\\n   <div class=\"links\">\\n    <a href=\"/index.htm\">\\n     Home\\n    </a>\\n    |\\n    <a href=\"/edgar/searchedgar/webusers.htm\">\\n     Search the Next-Generation EDGAR System\\n    </a>\\n    |\\n    <a href=\"javascript:history.back()\">\\n     Previous Page\\n    </a>\\n   </div>\\n   <div class=\"modified\">\\n    Modified 07/18/2014\\n   </div>\\n  </div>\\n  <!-- END FOOTER -->\\n </body>\\n</html>\\n'"
      ]
     },
     "execution_count": 11,
     "metadata": {},
     "output_type": "execute_result"
    }
   ],
   "source": [
    "soup.prettify()"
   ]
  },
  {
   "cell_type": "code",
   "execution_count": 12,
   "metadata": {},
   "outputs": [
    {
     "data": {
      "text/plain": [
       "'https://www.sec.gov/cgi-bin/browse-edgar?action=getcompany&CIK=0000908551&type=13F&dateb=&owner=exclude&count=100'"
      ]
     },
     "execution_count": 12,
     "metadata": {},
     "output_type": "execute_result"
    }
   ],
   "source": [
    "url.format(ticker)"
   ]
  },
  {
   "cell_type": "markdown",
   "metadata": {},
   "source": [
    "# Find Elements by table Data"
   ]
  },
  {
   "cell_type": "code",
   "execution_count": 14,
   "metadata": {},
   "outputs": [],
   "source": [
    "table_data = soup.findAll('table')[-1]"
   ]
  },
  {
   "cell_type": "code",
   "execution_count": 15,
   "metadata": {},
   "outputs": [
    {
     "data": {
      "text/plain": [
       "<table class=\"tableFile2\" summary=\"Results\">\n",
       "<tr>\n",
       "<th scope=\"col\" width=\"7%\">Filings</th>\n",
       "<th scope=\"col\" width=\"10%\">Format</th>\n",
       "<th scope=\"col\">Description</th>\n",
       "<th scope=\"col\" width=\"10%\">Filing Date</th>\n",
       "<th scope=\"col\" width=\"15%\">File/Film Number</th>\n",
       "</tr>\n",
       "<tr>\n",
       "<td nowrap=\"nowrap\">13F-HR</td>\n",
       "<td nowrap=\"nowrap\"><a href=\"/Archives/edgar/data/908551/000090855118000006/0000908551-18-000006-index.htm\" id=\"documentsbutton\"> Documents</a></td>\n",
       "<td class=\"small\">Quarterly report filed by institutional managers, Holdings<br/>Acc-no: 0000908551-18-000006 (34 Act)  Size: 8 KB            </td>\n",
       "<td>2018-10-29</td>\n",
       "<td nowrap=\"nowrap\"><a href=\"/cgi-bin/browse-edgar?action=getcompany&amp;filenum=028-13140&amp;owner=exclude&amp;count=100\">028-13140</a><br/>181143301         </td>\n",
       "</tr>\n",
       "<tr class=\"blueRow\">\n",
       "<td nowrap=\"nowrap\">13F-HR</td>\n",
       "<td nowrap=\"nowrap\"><a href=\"/Archives/edgar/data/908551/000090855118000005/0000908551-18-000005-index.htm\" id=\"documentsbutton\"> Documents</a></td>\n",
       "<td class=\"small\">Quarterly report filed by institutional managers, Holdings<br>Acc-no: 0000908551-18-000005 (34 Act)  Size: 7 KB            </br></td>\n",
       "<td>2018-07-26</td>\n",
       "<td nowrap=\"nowrap\"><a href=\"/cgi-bin/browse-edgar?action=getcompany&amp;filenum=028-13140&amp;owner=exclude&amp;count=100\">028-13140</a><br/>18970696         </td>\n",
       "</tr>\n",
       "<tr>\n",
       "<td nowrap=\"nowrap\">13F-HR</td>\n",
       "<td nowrap=\"nowrap\"><a href=\"/Archives/edgar/data/908551/000090855118000004/0000908551-18-000004-index.htm\" id=\"documentsbutton\"> Documents</a></td>\n",
       "<td class=\"small\">Quarterly report filed by institutional managers, Holdings<br>Acc-no: 0000908551-18-000004 (34 Act)  Size: 6 KB            </br></td>\n",
       "<td>2018-05-02</td>\n",
       "<td nowrap=\"nowrap\"><a href=\"/cgi-bin/browse-edgar?action=getcompany&amp;filenum=028-13140&amp;owner=exclude&amp;count=100\">028-13140</a><br/>18797877         </td>\n",
       "</tr>\n",
       "<tr class=\"blueRow\">\n",
       "<td nowrap=\"nowrap\">13F-HR</td>\n",
       "<td nowrap=\"nowrap\"><a href=\"/Archives/edgar/data/908551/000090855118000003/0000908551-18-000003-index.htm\" id=\"documentsbutton\"> Documents</a></td>\n",
       "<td class=\"small\">Quarterly report filed by institutional managers, Holdings<br>Acc-no: 0000908551-18-000003 (34 Act)  Size: 9 KB            </br></td>\n",
       "<td>2018-01-23</td>\n",
       "<td nowrap=\"nowrap\"><a href=\"/cgi-bin/browse-edgar?action=getcompany&amp;filenum=028-13140&amp;owner=exclude&amp;count=100\">028-13140</a><br/>18542142         </td>\n",
       "</tr>\n",
       "<tr>\n",
       "<td nowrap=\"nowrap\">13F-HR</td>\n",
       "<td nowrap=\"nowrap\"><a href=\"/Archives/edgar/data/908551/000090855117000007/0000908551-17-000007-index.htm\" id=\"documentsbutton\"> Documents</a></td>\n",
       "<td class=\"small\">Quarterly report filed by institutional managers, Holdings<br>Acc-no: 0000908551-17-000007 (34 Act)  Size: 8 KB            </br></td>\n",
       "<td>2017-10-24</td>\n",
       "<td nowrap=\"nowrap\"><a href=\"/cgi-bin/browse-edgar?action=getcompany&amp;filenum=028-13140&amp;owner=exclude&amp;count=100\">028-13140</a><br/>171150248         </td>\n",
       "</tr>\n",
       "<tr class=\"blueRow\">\n",
       "<td nowrap=\"nowrap\">13F-HR</td>\n",
       "<td nowrap=\"nowrap\"><a href=\"/Archives/edgar/data/908551/000090855117000005/0000908551-17-000005-index.htm\" id=\"documentsbutton\"> Documents</a></td>\n",
       "<td class=\"small\">Quarterly report filed by institutional managers, Holdings<br>Acc-no: 0000908551-17-000005 (34 Act)  Size: 9 KB            </br></td>\n",
       "<td>2017-07-24</td>\n",
       "<td nowrap=\"nowrap\"><a href=\"/cgi-bin/browse-edgar?action=getcompany&amp;filenum=028-13140&amp;owner=exclude&amp;count=100\">028-13140</a><br/>17978310         </td>\n",
       "</tr>\n",
       "<tr>\n",
       "<td nowrap=\"nowrap\">13F-HR</td>\n",
       "<td nowrap=\"nowrap\"><a href=\"/Archives/edgar/data/908551/000090855117000004/0000908551-17-000004-index.htm\" id=\"documentsbutton\"> Documents</a></td>\n",
       "<td class=\"small\">Quarterly report filed by institutional managers, Holdings<br>Acc-no: 0000908551-17-000004 (34 Act)  Size: 8 KB            </br></td>\n",
       "<td>2017-04-25</td>\n",
       "<td nowrap=\"nowrap\"><a href=\"/cgi-bin/browse-edgar?action=getcompany&amp;filenum=028-13140&amp;owner=exclude&amp;count=100\">028-13140</a><br/>17780939         </td>\n",
       "</tr>\n",
       "<tr class=\"blueRow\">\n",
       "<td nowrap=\"nowrap\">13F-HR</td>\n",
       "<td nowrap=\"nowrap\"><a href=\"/Archives/edgar/data/908551/000090855117000001/0000908551-17-000001-index.htm\" id=\"documentsbutton\"> Documents</a></td>\n",
       "<td class=\"small\">Quarterly report filed by institutional managers, Holdings<br>Acc-no: 0000908551-17-000001 (34 Act)  Size: 10 KB            </br></td>\n",
       "<td>2017-01-24</td>\n",
       "<td nowrap=\"nowrap\"><a href=\"/cgi-bin/browse-edgar?action=getcompany&amp;filenum=028-13140&amp;owner=exclude&amp;count=100\">028-13140</a><br/>17542622         </td>\n",
       "</tr>\n",
       "<tr>\n",
       "<td nowrap=\"nowrap\">13F-HR</td>\n",
       "<td nowrap=\"nowrap\"><a href=\"/Archives/edgar/data/908551/000090855116000013/0000908551-16-000013-index.htm\" id=\"documentsbutton\"> Documents</a></td>\n",
       "<td class=\"small\">Quarterly report filed by institutional managers, Holdings<br>Acc-no: 0000908551-16-000013 (34 Act)  Size: 8 KB            </br></td>\n",
       "<td>2016-10-21</td>\n",
       "<td nowrap=\"nowrap\"><a href=\"/cgi-bin/browse-edgar?action=getcompany&amp;filenum=028-13140&amp;owner=exclude&amp;count=100\">028-13140</a><br/>161945807         </td>\n",
       "</tr>\n",
       "<tr class=\"blueRow\">\n",
       "<td nowrap=\"nowrap\">13F-HR</td>\n",
       "<td nowrap=\"nowrap\"><a href=\"/Archives/edgar/data/908551/000090855116000012/0000908551-16-000012-index.htm\" id=\"documentsbutton\"> Documents</a></td>\n",
       "<td class=\"small\">Quarterly report filed by institutional managers, Holdings<br>Acc-no: 0000908551-16-000012 (34 Act)  Size: 9 KB            </br></td>\n",
       "<td>2016-07-21</td>\n",
       "<td nowrap=\"nowrap\"><a href=\"/cgi-bin/browse-edgar?action=getcompany&amp;filenum=028-13140&amp;owner=exclude&amp;count=100\">028-13140</a><br/>161776683         </td>\n",
       "</tr>\n",
       "<tr>\n",
       "<td nowrap=\"nowrap\">13F-HR</td>\n",
       "<td nowrap=\"nowrap\"><a href=\"/Archives/edgar/data/908551/000090855116000011/0000908551-16-000011-index.htm\" id=\"documentsbutton\"> Documents</a></td>\n",
       "<td class=\"small\">Quarterly report filed by institutional managers, Holdings<br>Acc-no: 0000908551-16-000011 (34 Act)  Size: 7 KB            </br></td>\n",
       "<td>2016-04-28</td>\n",
       "<td nowrap=\"nowrap\"><a href=\"/cgi-bin/browse-edgar?action=getcompany&amp;filenum=028-13140&amp;owner=exclude&amp;count=100\">028-13140</a><br/>161599035         </td>\n",
       "</tr>\n",
       "<tr class=\"blueRow\">\n",
       "<td nowrap=\"nowrap\">13F-HR</td>\n",
       "<td nowrap=\"nowrap\"><a href=\"/Archives/edgar/data/908551/000090855116000008/0000908551-16-000008-index.htm\" id=\"documentsbutton\"> Documents</a></td>\n",
       "<td class=\"small\">Quarterly report filed by institutional managers, Holdings<br>Acc-no: 0000908551-16-000008 (34 Act)  Size: 8 KB            </br></td>\n",
       "<td>2016-01-20</td>\n",
       "<td nowrap=\"nowrap\"><a href=\"/cgi-bin/browse-edgar?action=getcompany&amp;filenum=028-13140&amp;owner=exclude&amp;count=100\">028-13140</a><br/>161350062         </td>\n",
       "</tr>\n",
       "<tr>\n",
       "<td nowrap=\"nowrap\">13F-HR</td>\n",
       "<td nowrap=\"nowrap\"><a href=\"/Archives/edgar/data/908551/000090855115000006/0000908551-15-000006-index.htm\" id=\"documentsbutton\"> Documents</a></td>\n",
       "<td class=\"small\">Quarterly report filed by institutional managers, Holdings<br>Acc-no: 0000908551-15-000006 (34 Act)  Size: 8 KB            </br></td>\n",
       "<td>2015-10-21</td>\n",
       "<td nowrap=\"nowrap\"><a href=\"/cgi-bin/browse-edgar?action=getcompany&amp;filenum=028-13140&amp;owner=exclude&amp;count=100\">028-13140</a><br/>151167575         </td>\n",
       "</tr>\n",
       "<tr class=\"blueRow\">\n",
       "<td nowrap=\"nowrap\">13F-HR</td>\n",
       "<td nowrap=\"nowrap\"><a href=\"/Archives/edgar/data/908551/000090855115000005/0000908551-15-000005-index.htm\" id=\"documentsbutton\"> Documents</a></td>\n",
       "<td class=\"small\">Quarterly report filed by institutional managers, Holdings<br>Acc-no: 0000908551-15-000005 (34 Act)  Size: 9 KB            </br></td>\n",
       "<td>2015-07-30</td>\n",
       "<td nowrap=\"nowrap\"><a href=\"/cgi-bin/browse-edgar?action=getcompany&amp;filenum=028-13140&amp;owner=exclude&amp;count=100\">028-13140</a><br/>151014666         </td>\n",
       "</tr>\n",
       "<tr>\n",
       "<td nowrap=\"nowrap\">13F-HR</td>\n",
       "<td nowrap=\"nowrap\"><a href=\"/Archives/edgar/data/908551/000090855115000004/0000908551-15-000004-index.htm\" id=\"documentsbutton\"> Documents</a></td>\n",
       "<td class=\"small\">Quarterly report filed by institutional managers, Holdings<br>Acc-no: 0000908551-15-000004 (34 Act)  Size: 9 KB            </br></td>\n",
       "<td>2015-04-21</td>\n",
       "<td nowrap=\"nowrap\"><a href=\"/cgi-bin/browse-edgar?action=getcompany&amp;filenum=028-13140&amp;owner=exclude&amp;count=100\">028-13140</a><br/>15782224         </td>\n",
       "</tr>\n",
       "<tr class=\"blueRow\">\n",
       "<td nowrap=\"nowrap\">13F-HR</td>\n",
       "<td nowrap=\"nowrap\"><a href=\"/Archives/edgar/data/908551/000090855115000001/0000908551-15-000001-index.htm\" id=\"documentsbutton\"> Documents</a></td>\n",
       "<td class=\"small\">Quarterly report filed by institutional managers, Holdings<br>Acc-no: 0000908551-15-000001 (34 Act)  Size: 9 KB            </br></td>\n",
       "<td>2015-01-21</td>\n",
       "<td nowrap=\"nowrap\"><a href=\"/cgi-bin/browse-edgar?action=getcompany&amp;filenum=028-13140&amp;owner=exclude&amp;count=100\">028-13140</a><br/>15537601         </td>\n",
       "</tr>\n",
       "<tr>\n",
       "<td nowrap=\"nowrap\">13F-HR</td>\n",
       "<td nowrap=\"nowrap\"><a href=\"/Archives/edgar/data/908551/000090855114000006/0000908551-14-000006-index.htm\" id=\"documentsbutton\"> Documents</a></td>\n",
       "<td class=\"small\">Quarterly report filed by institutional managers, Holdings<br>Acc-no: 0000908551-14-000006 (34 Act)  Size: 7 KB            </br></td>\n",
       "<td>2014-10-23</td>\n",
       "<td nowrap=\"nowrap\"><a href=\"/cgi-bin/browse-edgar?action=getcompany&amp;filenum=028-13140&amp;owner=exclude&amp;count=100\">028-13140</a><br/>141169003         </td>\n",
       "</tr>\n",
       "<tr class=\"blueRow\">\n",
       "<td nowrap=\"nowrap\">13F-HR</td>\n",
       "<td nowrap=\"nowrap\"><a href=\"/Archives/edgar/data/908551/000090855114000005/0000908551-14-000005-index.htm\" id=\"documentsbutton\"> Documents</a></td>\n",
       "<td class=\"small\">Quarterly report filed by institutional managers, Holdings<br>Acc-no: 0000908551-14-000005 (34 Act)  Size: 7 KB            </br></td>\n",
       "<td>2014-07-18</td>\n",
       "<td nowrap=\"nowrap\"><a href=\"/cgi-bin/browse-edgar?action=getcompany&amp;filenum=028-13140&amp;owner=exclude&amp;count=100\">028-13140</a><br/>14982549         </td>\n",
       "</tr>\n",
       "<tr>\n",
       "<td nowrap=\"nowrap\">13F-HR</td>\n",
       "<td nowrap=\"nowrap\"><a href=\"/Archives/edgar/data/908551/000090855114000004/0000908551-14-000004-index.htm\" id=\"documentsbutton\"> Documents</a></td>\n",
       "<td class=\"small\">Quarterly report filed by institutional managers, Holdings<br>Acc-no: 0000908551-14-000004 (34 Act)  Size: 7 KB            </br></td>\n",
       "<td>2014-04-22</td>\n",
       "<td nowrap=\"nowrap\"><a href=\"/cgi-bin/browse-edgar?action=getcompany&amp;filenum=028-13140&amp;owner=exclude&amp;count=100\">028-13140</a><br/>14775619         </td>\n",
       "</tr>\n",
       "<tr class=\"blueRow\">\n",
       "<td nowrap=\"nowrap\">13F-HR</td>\n",
       "<td nowrap=\"nowrap\"><a href=\"/Archives/edgar/data/908551/000090855114000002/0000908551-14-000002-index.htm\" id=\"documentsbutton\"> Documents</a></td>\n",
       "<td class=\"small\">Quarterly report filed by institutional managers, Holdings<br>Acc-no: 0000908551-14-000002 (34 Act)  Size: 7 KB            </br></td>\n",
       "<td>2014-01-22</td>\n",
       "<td nowrap=\"nowrap\"><a href=\"/cgi-bin/browse-edgar?action=getcompany&amp;filenum=028-13140&amp;owner=exclude&amp;count=100\">028-13140</a><br/>14539905         </td>\n",
       "</tr>\n",
       "<tr>\n",
       "<td nowrap=\"nowrap\">13F-HR/A</td>\n",
       "<td nowrap=\"nowrap\"><a href=\"/Archives/edgar/data/908551/000090855113000011/0000908551-13-000011-index.htm\" id=\"documentsbutton\"> Documents</a></td>\n",
       "<td class=\"small\"><b>[Amend]</b> Quarterly report filed by institutional managers, Holdings<br>Acc-no: 0000908551-13-000011 (34 Act)  Size: 8 KB            </br></td>\n",
       "<td>2013-11-08</td>\n",
       "<td nowrap=\"nowrap\"><a href=\"/cgi-bin/browse-edgar?action=getcompany&amp;filenum=028-13140&amp;owner=exclude&amp;count=100\">028-13140</a><br/>131204138         </td>\n",
       "</tr>\n",
       "<tr class=\"blueRow\">\n",
       "<td nowrap=\"nowrap\">13F-HR</td>\n",
       "<td nowrap=\"nowrap\"><a href=\"/Archives/edgar/data/908551/000090855113000010/0000908551-13-000010-index.htm\" id=\"documentsbutton\"> Documents</a></td>\n",
       "<td class=\"small\">Quarterly report filed by institutional managers, Holdings<br>Acc-no: 0000908551-13-000010 (34 Act)  Size: 53 KB            </br></td>\n",
       "<td>2013-10-21</td>\n",
       "<td nowrap=\"nowrap\"><a href=\"/cgi-bin/browse-edgar?action=getcompany&amp;filenum=028-13140&amp;owner=exclude&amp;count=100\">028-13140</a><br/>131160742         </td>\n",
       "</tr>\n",
       "<tr>\n",
       "<td nowrap=\"nowrap\">13F-HR</td>\n",
       "<td nowrap=\"nowrap\"><a href=\"/Archives/edgar/data/908551/000090855113000009/0000908551-13-000009-index.htm\" id=\"documentsbutton\"> Documents</a></td>\n",
       "<td class=\"small\">Quarterly report filed by institutional managers, Holdings<br>Acc-no: 0000908551-13-000009 (34 Act)  Size: 53 KB            </br></td>\n",
       "<td>2013-08-14</td>\n",
       "<td nowrap=\"nowrap\"><a href=\"/cgi-bin/browse-edgar?action=getcompany&amp;filenum=028-13140&amp;owner=exclude&amp;count=100\">028-13140</a><br/>131037281         </td>\n",
       "</tr>\n",
       "<tr class=\"blueRow\">\n",
       "<td nowrap=\"nowrap\">13F-HR</td>\n",
       "<td nowrap=\"nowrap\"><a href=\"/Archives/edgar/data/908551/000090855113000005/0000908551-13-000005-index.htm\" id=\"documentsbutton\"> Documents</a></td>\n",
       "<td class=\"small\">Quarterly report filed by institutional managers, Holdings<br>Acc-no: 0000908551-13-000005 (34 Act)  Size: 11 KB            </br></td>\n",
       "<td>2013-04-24</td>\n",
       "<td nowrap=\"nowrap\"><a href=\"/cgi-bin/browse-edgar?action=getcompany&amp;filenum=028-13140&amp;owner=exclude&amp;count=100\">028-13140</a><br/>13777951         </td>\n",
       "</tr>\n",
       "<tr>\n",
       "<td nowrap=\"nowrap\">13F-HR</td>\n",
       "<td nowrap=\"nowrap\"><a href=\"/Archives/edgar/data/908551/000090855113000001/0000908551-13-000001-index.htm\" id=\"documentsbutton\"> Documents</a></td>\n",
       "<td class=\"small\">Quarterly report filed by institutional managers, Holdings<br>Acc-no: 0000908551-13-000001 (34 Act)  Size: 11 KB            </br></td>\n",
       "<td>2013-01-23</td>\n",
       "<td nowrap=\"nowrap\"><a href=\"/cgi-bin/browse-edgar?action=getcompany&amp;filenum=028-13140&amp;owner=exclude&amp;count=100\">028-13140</a><br/>13542128         </td>\n",
       "</tr>\n",
       "<tr class=\"blueRow\">\n",
       "<td nowrap=\"nowrap\">13F-HR</td>\n",
       "<td nowrap=\"nowrap\"><a href=\"/Archives/edgar/data/908551/000090855112000006/0000908551-12-000006-index.htm\" id=\"documentsbutton\"> Documents</a></td>\n",
       "<td class=\"small\">Quarterly report filed by institutional managers, Holdings<br>Acc-no: 0000908551-12-000006 (34 Act)  Size: 86 KB            </br></td>\n",
       "<td>2012-10-24</td>\n",
       "<td nowrap=\"nowrap\"><a href=\"/cgi-bin/browse-edgar?action=getcompany&amp;filenum=028-13140&amp;owner=exclude&amp;count=100\">028-13140</a><br/>121158344         </td>\n",
       "</tr>\n",
       "<tr>\n",
       "<td nowrap=\"nowrap\">13F-HR</td>\n",
       "<td nowrap=\"nowrap\"><a href=\"/Archives/edgar/data/908551/000090855112000005/0000908551-12-000005-index.htm\" id=\"documentsbutton\"> Documents</a></td>\n",
       "<td class=\"small\">Quarterly report filed by institutional managers, Holdings<br>Acc-no: 0000908551-12-000005 (34 Act)  Size: 95 KB            </br></td>\n",
       "<td>2012-08-14</td>\n",
       "<td nowrap=\"nowrap\"><a href=\"/cgi-bin/browse-edgar?action=getcompany&amp;filenum=028-13140&amp;owner=exclude&amp;count=100\">028-13140</a><br/>121030786         </td>\n",
       "</tr>\n",
       "<tr class=\"blueRow\">\n",
       "<td nowrap=\"nowrap\">13F-HR</td>\n",
       "<td nowrap=\"nowrap\"><a href=\"/Archives/edgar/data/908551/000090855112000004/0000908551-12-000004-index.htm\" id=\"documentsbutton\"> Documents</a></td>\n",
       "<td class=\"small\">Quarterly report filed by institutional managers, Holdings<br>Acc-no: 0000908551-12-000004 (34 Act)  Size: 101 KB            </br></td>\n",
       "<td>2012-04-24</td>\n",
       "<td nowrap=\"nowrap\"><a href=\"/cgi-bin/browse-edgar?action=getcompany&amp;filenum=028-13140&amp;owner=exclude&amp;count=100\">028-13140</a><br/>12774821         </td>\n",
       "</tr>\n",
       "<tr>\n",
       "<td nowrap=\"nowrap\">13F-HR</td>\n",
       "<td nowrap=\"nowrap\"><a href=\"/Archives/edgar/data/908551/000090855112000002/0000908551-12-000002-index.htm\" id=\"documentsbutton\"> Documents</a></td>\n",
       "<td class=\"small\">Quarterly report filed by institutional managers, Holdings<br>Acc-no: 0000908551-12-000002 (34 Act)  Size: 101 KB            </br></td>\n",
       "<td>2012-01-26</td>\n",
       "<td nowrap=\"nowrap\"><a href=\"/cgi-bin/browse-edgar?action=getcompany&amp;filenum=028-13140&amp;owner=exclude&amp;count=100\">028-13140</a><br/>12546467         </td>\n",
       "</tr>\n",
       "<tr class=\"blueRow\">\n",
       "<td nowrap=\"nowrap\">13F-HR/A</td>\n",
       "<td nowrap=\"nowrap\"><a href=\"/Archives/edgar/data/908551/000090855111000008/0000908551-11-000008-index.htm\" id=\"documentsbutton\"> Documents</a></td>\n",
       "<td class=\"small\"><b>[Amend]</b> Quarterly report filed by institutional managers, Holdings<br>Acc-no: 0000908551-11-000008 (34 Act)  Size: 105 KB            </br></td>\n",
       "<td>2011-11-15</td>\n",
       "<td nowrap=\"nowrap\"><a href=\"/cgi-bin/browse-edgar?action=getcompany&amp;filenum=028-13140&amp;owner=exclude&amp;count=100\">028-13140</a><br/>111206359         </td>\n",
       "</tr>\n",
       "<tr>\n",
       "<td nowrap=\"nowrap\">13F-HR</td>\n",
       "<td nowrap=\"nowrap\"><a href=\"/Archives/edgar/data/908551/000090855111000007/0000908551-11-000007-index.htm\" id=\"documentsbutton\"> Documents</a></td>\n",
       "<td class=\"small\">Quarterly report filed by institutional managers, Holdings<br>Acc-no: 0000908551-11-000007 (34 Act)  Size: 104 KB            </br></td>\n",
       "<td>2011-11-03</td>\n",
       "<td nowrap=\"nowrap\"><a href=\"/cgi-bin/browse-edgar?action=getcompany&amp;filenum=028-13140&amp;owner=exclude&amp;count=100\">028-13140</a><br/>111177760         </td>\n",
       "</tr>\n",
       "<tr class=\"blueRow\">\n",
       "<td nowrap=\"nowrap\">13F-HR</td>\n",
       "<td nowrap=\"nowrap\"><a href=\"/Archives/edgar/data/908551/000090855111000006/0000908551-11-000006-index.htm\" id=\"documentsbutton\"> Documents</a></td>\n",
       "<td class=\"small\">Quarterly report filed by institutional managers, Holdings<br>Acc-no: 0000908551-11-000006 (34 Act)  Size: 118 KB            </br></td>\n",
       "<td>2011-08-02</td>\n",
       "<td nowrap=\"nowrap\"><a href=\"/cgi-bin/browse-edgar?action=getcompany&amp;filenum=028-13140&amp;owner=exclude&amp;count=100\">028-13140</a><br/>111002762         </td>\n",
       "</tr>\n",
       "<tr>\n",
       "<td nowrap=\"nowrap\">13F-HR</td>\n",
       "<td nowrap=\"nowrap\"><a href=\"/Archives/edgar/data/908551/000090855111000005/0000908551-11-000005-index.htm\" id=\"documentsbutton\"> Documents</a></td>\n",
       "<td class=\"small\">Quarterly report filed by institutional managers, Holdings<br>Acc-no: 0000908551-11-000005 (34 Act)  Size: 131 KB            </br></td>\n",
       "<td>2011-04-20</td>\n",
       "<td nowrap=\"nowrap\"><a href=\"/cgi-bin/browse-edgar?action=getcompany&amp;filenum=028-13140&amp;owner=exclude&amp;count=100\">028-13140</a><br/>11769484         </td>\n",
       "</tr>\n",
       "<tr class=\"blueRow\">\n",
       "<td nowrap=\"nowrap\">13F-HR</td>\n",
       "<td nowrap=\"nowrap\"><a href=\"/Archives/edgar/data/908551/000090855111000002/0000908551-11-000002-index.htm\" id=\"documentsbutton\"> Documents</a></td>\n",
       "<td class=\"small\">Quarterly report filed by institutional managers, Holdings<br>Acc-no: 0000908551-11-000002 (34 Act)  Size: 128 KB            </br></td>\n",
       "<td>2011-01-14</td>\n",
       "<td nowrap=\"nowrap\"><a href=\"/cgi-bin/browse-edgar?action=getcompany&amp;filenum=028-13140&amp;owner=exclude&amp;count=100\">028-13140</a><br/>11529625         </td>\n",
       "</tr>\n",
       "<tr>\n",
       "<td nowrap=\"nowrap\">13F-HR/A</td>\n",
       "<td nowrap=\"nowrap\"><a href=\"/Archives/edgar/data/908551/000090855110000013/0000908551-10-000013-index.htm\" id=\"documentsbutton\"> Documents</a></td>\n",
       "<td class=\"small\"><b>[Amend]</b> Quarterly report filed by institutional managers, Holdings<br>Acc-no: 0000908551-10-000013 (34 Act)  Size: 131 KB            </br></td>\n",
       "<td>2010-10-27</td>\n",
       "<td nowrap=\"nowrap\"><a href=\"/cgi-bin/browse-edgar?action=getcompany&amp;filenum=028-13140&amp;owner=exclude&amp;count=100\">028-13140</a><br/>101145180         </td>\n",
       "</tr>\n",
       "<tr class=\"blueRow\">\n",
       "<td nowrap=\"nowrap\">13F-HR</td>\n",
       "<td nowrap=\"nowrap\"><a href=\"/Archives/edgar/data/908551/000090855110000011/0000908551-10-000011-index.htm\" id=\"documentsbutton\"> Documents</a></td>\n",
       "<td class=\"small\">Quarterly report filed by institutional managers, Holdings<br>Acc-no: 0000908551-10-000011 (34 Act)  Size: 131 KB            </br></td>\n",
       "<td>2010-10-14</td>\n",
       "<td nowrap=\"nowrap\"><a href=\"/cgi-bin/browse-edgar?action=getcompany&amp;filenum=028-13140&amp;owner=exclude&amp;count=100\">028-13140</a><br/>101124037         </td>\n",
       "</tr>\n",
       "<tr>\n",
       "<td nowrap=\"nowrap\">13F-HR/A</td>\n",
       "<td nowrap=\"nowrap\"><a href=\"/Archives/edgar/data/908551/000090855110000009/0000908551-10-000009-index.htm\" id=\"documentsbutton\"> Documents</a></td>\n",
       "<td class=\"small\"><b>[Amend]</b> Quarterly report filed by institutional managers, Holdings<br>Acc-no: 0000908551-10-000009 (34 Act)  Size: 80 KB            </br></td>\n",
       "<td>2010-08-10</td>\n",
       "<td nowrap=\"nowrap\"><a href=\"/cgi-bin/browse-edgar?action=getcompany&amp;filenum=028-13140&amp;owner=exclude&amp;count=100\">028-13140</a><br/>101004855         </td>\n",
       "</tr>\n",
       "<tr class=\"blueRow\">\n",
       "<td nowrap=\"nowrap\">13F-HR</td>\n",
       "<td nowrap=\"nowrap\"><a href=\"/Archives/edgar/data/908551/000090855110000008/0000908551-10-000008-index.htm\" id=\"documentsbutton\"> Documents</a></td>\n",
       "<td class=\"small\">Quarterly report filed by institutional managers, Holdings<br>Acc-no: 0000908551-10-000008 (34 Act)  Size: 78 KB            </br></td>\n",
       "<td>2010-08-10</td>\n",
       "<td nowrap=\"nowrap\"><a href=\"/cgi-bin/browse-edgar?action=getcompany&amp;filenum=028-13140&amp;owner=exclude&amp;count=100\">028-13140</a><br/>101004263         </td>\n",
       "</tr>\n",
       "<tr>\n",
       "<td nowrap=\"nowrap\">13F-HR</td>\n",
       "<td nowrap=\"nowrap\"><a href=\"/Archives/edgar/data/908551/000090855110000003/0000908551-10-000003-index.htm\" id=\"documentsbutton\"> Documents</a></td>\n",
       "<td class=\"small\">Quarterly report filed by institutional managers, Holdings<br>Acc-no: 0000908551-10-000003 (34 Act)  Size: 95 KB            </br></td>\n",
       "<td>2010-05-06</td>\n",
       "<td nowrap=\"nowrap\"><a href=\"/cgi-bin/browse-edgar?action=getcompany&amp;filenum=028-13140&amp;owner=exclude&amp;count=100\">028-13140</a><br/>10804133         </td>\n",
       "</tr>\n",
       "<tr class=\"blueRow\">\n",
       "<td nowrap=\"nowrap\">13F-HR</td>\n",
       "<td nowrap=\"nowrap\"><a href=\"/Archives/edgar/data/908551/000090855110000001/0000908551-10-000001-index.htm\" id=\"documentsbutton\"> Documents</a></td>\n",
       "<td class=\"small\">Quarterly report filed by institutional managers, Holdings<br>Acc-no: 0000908551-10-000001 (34 Act)  Size: 96 KB            </br></td>\n",
       "<td>2010-01-26</td>\n",
       "<td nowrap=\"nowrap\"><a href=\"/cgi-bin/browse-edgar?action=getcompany&amp;filenum=028-13140&amp;owner=exclude&amp;count=100\">028-13140</a><br/>10547206         </td>\n",
       "</tr>\n",
       "<tr>\n",
       "<td nowrap=\"nowrap\">13F-HR</td>\n",
       "<td nowrap=\"nowrap\"><a href=\"/Archives/edgar/data/908551/000090855109000005/0000908551-09-000005-index.htm\" id=\"documentsbutton\"> Documents</a></td>\n",
       "<td class=\"small\">Quarterly report filed by institutional managers, Holdings<br>Acc-no: 0000908551-09-000005 (34 Act)  Size: 86 KB            </br></td>\n",
       "<td>2009-10-26</td>\n",
       "<td nowrap=\"nowrap\"><a href=\"/cgi-bin/browse-edgar?action=getcompany&amp;filenum=028-13140&amp;owner=exclude&amp;count=100\">028-13140</a><br/>091136683         </td>\n",
       "</tr>\n",
       "<tr class=\"blueRow\">\n",
       "<td nowrap=\"nowrap\">13F-HR</td>\n",
       "<td nowrap=\"nowrap\"><a href=\"/Archives/edgar/data/908551/000090855109000004/0000908551-09-000004-index.htm\" id=\"documentsbutton\"> Documents</a></td>\n",
       "<td class=\"small\">Quarterly report filed by institutional managers, Holdings<br>Acc-no: 0000908551-09-000004 (34 Act)  Size: 92 KB            </br></td>\n",
       "<td>2009-07-16</td>\n",
       "<td nowrap=\"nowrap\"><a href=\"/cgi-bin/browse-edgar?action=getcompany&amp;filenum=028-13140&amp;owner=exclude&amp;count=100\">028-13140</a><br/>09947362         </td>\n",
       "</tr>\n",
       "<tr>\n",
       "<td nowrap=\"nowrap\">13F-HR</td>\n",
       "<td nowrap=\"nowrap\"><a href=\"/Archives/edgar/data/908551/000090855109000003/0000908551-09-000003-index.htm\" id=\"documentsbutton\"> Documents</a></td>\n",
       "<td class=\"small\">Quarterly report filed by institutional managers, Holdings<br>Acc-no: 0000908551-09-000003 (34 Act)  Size: 98 KB            </br></td>\n",
       "<td>2009-04-14</td>\n",
       "<td nowrap=\"nowrap\"><a href=\"/cgi-bin/browse-edgar?action=getcompany&amp;filenum=028-13140&amp;owner=exclude&amp;count=100\">028-13140</a><br/>09748929         </td>\n",
       "</tr>\n",
       "<tr class=\"blueRow\">\n",
       "<td nowrap=\"nowrap\">13F-HR</td>\n",
       "<td nowrap=\"nowrap\"><a href=\"/Archives/edgar/data/908551/000090855109000001/0000908551-09-000001-index.htm\" id=\"documentsbutton\"> Documents</a></td>\n",
       "<td class=\"small\">Quarterly report filed by institutional managers, Holdings<br>Acc-no: 0000908551-09-000001 (34 Act)  Size: 111 KB            </br></td>\n",
       "<td>2009-01-13</td>\n",
       "<td nowrap=\"nowrap\"><a href=\"/cgi-bin/browse-edgar?action=getcompany&amp;filenum=028-13140&amp;owner=exclude&amp;count=100\">028-13140</a><br/>09522849         </td>\n",
       "</tr>\n",
       "<tr>\n",
       "<td nowrap=\"nowrap\">13F-HR</td>\n",
       "<td nowrap=\"nowrap\"><a href=\"/Archives/edgar/data/908551/000090855108000006/0000908551-08-000006-index.htm\" id=\"documentsbutton\"> Documents</a></td>\n",
       "<td class=\"small\">Quarterly report filed by institutional managers, Holdings<br>Acc-no: 0000908551-08-000006 (34 Act)  Size: 118 KB            </br></td>\n",
       "<td>2008-10-14</td>\n",
       "<td nowrap=\"nowrap\"><a href=\"/cgi-bin/browse-edgar?action=getcompany&amp;filenum=028-13140&amp;owner=exclude&amp;count=100\">028-13140</a><br/>081120182         </td>\n",
       "</tr>\n",
       "<tr class=\"blueRow\">\n",
       "<td nowrap=\"nowrap\">13F-HR</td>\n",
       "<td nowrap=\"nowrap\"><a href=\"/Archives/edgar/data/908551/000090855108000005/0000908551-08-000005-index.htm\" id=\"documentsbutton\"> Documents</a></td>\n",
       "<td class=\"small\">Quarterly report filed by institutional managers, Holdings<br>Acc-no: 0000908551-08-000005 (34 Act)  Size: 117 KB            </br></td>\n",
       "<td>2008-07-03</td>\n",
       "<td nowrap=\"nowrap\"><a href=\"/cgi-bin/browse-edgar?action=getcompany&amp;filenum=028-13140&amp;owner=exclude&amp;count=100\">028-13140</a><br/>08938167         </td>\n",
       "</tr>\n",
       "<tr>\n",
       "<td nowrap=\"nowrap\">13F-HR</td>\n",
       "<td nowrap=\"nowrap\"><a href=\"/Archives/edgar/data/908551/000090855108000004/0000908551-08-000004-index.htm\" id=\"documentsbutton\"> Documents</a></td>\n",
       "<td class=\"small\">Quarterly report filed by institutional managers, Holdings<br>Acc-no: 0000908551-08-000004 (34 Act)  Size: 116 KB            </br></td>\n",
       "<td>2008-07-03</td>\n",
       "<td nowrap=\"nowrap\"><a href=\"/cgi-bin/browse-edgar?action=getcompany&amp;filenum=028-13140&amp;owner=exclude&amp;count=100\">028-13140</a><br/>08938166         </td>\n",
       "</tr>\n",
       "<tr class=\"blueRow\">\n",
       "<td nowrap=\"nowrap\">13F-HR</td>\n",
       "<td nowrap=\"nowrap\"><a href=\"/Archives/edgar/data/908551/000090855108000003/0000908551-08-000003-index.htm\" id=\"documentsbutton\"> Documents</a></td>\n",
       "<td class=\"small\">Quarterly report filed by institutional managers, Holdings<br>Acc-no: 0000908551-08-000003 (34 Act)  Size: 117 KB            </br></td>\n",
       "<td>2008-07-03</td>\n",
       "<td nowrap=\"nowrap\"><a href=\"/cgi-bin/browse-edgar?action=getcompany&amp;filenum=028-13140&amp;owner=exclude&amp;count=100\">028-13140</a><br/>08937511         </td>\n",
       "</tr>\n",
       "</table>"
      ]
     },
     "execution_count": 15,
     "metadata": {},
     "output_type": "execute_result"
    }
   ],
   "source": [
    "table_data"
   ]
  },
  {
   "cell_type": "markdown",
   "metadata": {},
   "source": [
    "### Find Elements by class Name of results table"
   ]
  },
  {
   "cell_type": "code",
   "execution_count": 21,
   "metadata": {},
   "outputs": [],
   "source": [
    "table_data = soup.find('table', class_='tableFile2')"
   ]
  },
  {
   "cell_type": "markdown",
   "metadata": {},
   "source": [
    "### Find the elements table rows"
   ]
  },
  {
   "cell_type": "code",
   "execution_count": 24,
   "metadata": {},
   "outputs": [],
   "source": [
    "table_rows = table_data.find_all('tr')"
   ]
  },
  {
   "cell_type": "code",
   "execution_count": 29,
   "metadata": {},
   "outputs": [],
   "source": [
    "first_filing = table_rows[1]"
   ]
  },
  {
   "cell_type": "code",
   "execution_count": 36,
   "metadata": {},
   "outputs": [
    {
     "name": "stdout",
     "output_type": "stream",
     "text": [
      "13F-HR\n",
      " Documents\n",
      "Quarterly report filed by institutional managers, HoldingsAcc-no: 0000908551-18-000006 (34 Act)  Size: 8 KB            \n",
      "2018-10-29\n",
      "028-13140181143301         \n"
     ]
    }
   ],
   "source": [
    "for td in first_filing.find_all('td'):\n",
    "    print(td.text)"
   ]
  },
  {
   "cell_type": "markdown",
   "metadata": {},
   "source": [
    "### Get the Href from the second table data element and href tag"
   ]
  },
  {
   "cell_type": "code",
   "execution_count": 184,
   "metadata": {},
   "outputs": [
    {
     "data": {
      "text/plain": [
       "'2018-10-29'"
      ]
     },
     "execution_count": 184,
     "metadata": {},
     "output_type": "execute_result"
    }
   ],
   "source": [
    "first_filing.find_all('td')[3].text"
   ]
  },
  {
   "cell_type": "code",
   "execution_count": 45,
   "metadata": {},
   "outputs": [],
   "source": [
    "filings_url = 'https://www.sec.gov' + first_filing.find_all('td')[1].find('a')['href']"
   ]
  },
  {
   "cell_type": "markdown",
   "metadata": {},
   "source": [
    "### Make Request to filings page"
   ]
  },
  {
   "cell_type": "code",
   "execution_count": 47,
   "metadata": {},
   "outputs": [],
   "source": [
    "res = requests.get(filings_url)"
   ]
  },
  {
   "cell_type": "code",
   "execution_count": 49,
   "metadata": {},
   "outputs": [],
   "source": [
    "soup = BeautifulSoup(res.text, 'html.parser')"
   ]
  },
  {
   "cell_type": "code",
   "execution_count": 53,
   "metadata": {},
   "outputs": [],
   "source": [
    "table = soup.find('table', class_='tableFile')"
   ]
  },
  {
   "cell_type": "code",
   "execution_count": 57,
   "metadata": {
    "scrolled": true
   },
   "outputs": [
    {
     "data": {
      "text/plain": [
       "5"
      ]
     },
     "execution_count": 57,
     "metadata": {},
     "output_type": "execute_result"
    }
   ],
   "source": [
    "len(table.find_all('tr')[1:])"
   ]
  },
  {
   "cell_type": "code",
   "execution_count": 64,
   "metadata": {},
   "outputs": [],
   "source": [
    "last_row = table.find_all('tr')[-1]"
   ]
  },
  {
   "cell_type": "markdown",
   "metadata": {},
   "source": [
    "### Get the href from the third column of table"
   ]
  },
  {
   "cell_type": "code",
   "execution_count": 72,
   "metadata": {},
   "outputs": [
    {
     "data": {
      "text/plain": [
       "'/Archives/edgar/data/908551/000090855118000006/0000908551-18-000006.txt'"
      ]
     },
     "execution_count": 72,
     "metadata": {},
     "output_type": "execute_result"
    }
   ],
   "source": [
    "last_row.find_all('td')[2].find('a')['href']"
   ]
  },
  {
   "cell_type": "markdown",
   "metadata": {},
   "source": [
    "### Mkae Request for the file"
   ]
  },
  {
   "cell_type": "code",
   "execution_count": 73,
   "metadata": {},
   "outputs": [],
   "source": [
    "holdings_file_url = 'https://www.sec.gov' + last_row.find_all('td')[2].find('a')['href']"
   ]
  },
  {
   "cell_type": "code",
   "execution_count": 76,
   "metadata": {},
   "outputs": [],
   "source": [
    "resp = requests.get(holdings_file_url)"
   ]
  },
  {
   "cell_type": "code",
   "execution_count": 80,
   "metadata": {},
   "outputs": [],
   "source": [
    "soup = BeautifulSoup(resp.text, 'xml')"
   ]
  },
  {
   "cell_type": "code",
   "execution_count": 84,
   "metadata": {},
   "outputs": [],
   "source": [
    "info_tables = soup.find('informationTable').find_all('infoTable')"
   ]
  },
  {
   "cell_type": "code",
   "execution_count": 86,
   "metadata": {},
   "outputs": [
    {
     "data": {
      "text/plain": [
       "<infoTable>\n",
       "<nameOfIssuer>ADR MOMO INC ADR</nameOfIssuer>\n",
       "<titleOfClass>COM</titleOfClass>\n",
       "<cusip>60879B107</cusip>\n",
       "<value>551</value>\n",
       "<shrsOrPrnAmt>\n",
       "<sshPrnamt>12585</sshPrnamt>\n",
       "<sshPrnamtType>SH</sshPrnamtType>\n",
       "</shrsOrPrnAmt>\n",
       "<investmentDiscretion>SOLE</investmentDiscretion>\n",
       "<votingAuthority>\n",
       "<Sole>12585</Sole>\n",
       "<Shared>0</Shared>\n",
       "<None>0</None>\n",
       "</votingAuthority>\n",
       "</infoTable>"
      ]
     },
     "execution_count": 86,
     "metadata": {},
     "output_type": "execute_result"
    }
   ],
   "source": [
    "info_tables[1]"
   ]
  },
  {
   "cell_type": "code",
   "execution_count": 100,
   "metadata": {},
   "outputs": [
    {
     "name": "stdout",
     "output_type": "stream",
     "text": [
      "nameOfIssuer ADR MOMO INC ADR\n",
      "titleOfClass COM\n",
      "cusip 60879B107\n",
      "value 551\n",
      "shrsOrPrnAmt \n",
      "12585\n",
      "SH\n",
      "\n",
      "investmentDiscretion SOLE\n",
      "votingAuthority \n",
      "12585\n",
      "0\n",
      "0\n",
      "\n"
     ]
    }
   ],
   "source": [
    "for info in info_tables[1]:\n",
    "    if info.name:\n",
    "        print(info.name, info.text)"
   ]
  },
  {
   "cell_type": "markdown",
   "metadata": {},
   "source": [
    "## Use the findchildren method instead of finding elements one by one for faster runtime"
   ]
  },
  {
   "cell_type": "code",
   "execution_count": 124,
   "metadata": {},
   "outputs": [
    {
     "name": "stdout",
     "output_type": "stream",
     "text": [
      "nameOfIssuer ADR MOMO INC ADR\n",
      "titleOfClass COM\n",
      "cusip 60879B107\n",
      "value 551\n",
      "shrsOrPrnAmt \n",
      "\n",
      "sshPrnamt 12585\n",
      "sshPrnamtType SH\n",
      "investmentDiscretion SOLE\n",
      "votingAuthority \n",
      "\n",
      "Sole 12585\n",
      "Shared 0\n",
      "None 0\n"
     ]
    }
   ],
   "source": [
    "for child in info_tables[1].findChildren():\n",
    "    if child.name and not child.findChildren():\n",
    "        print(child.name, child.find(text=True, recursive=False))"
   ]
  },
  {
   "cell_type": "code",
   "execution_count": 173,
   "metadata": {},
   "outputs": [],
   "source": [
    "issuers = []"
   ]
  },
  {
   "cell_type": "code",
   "execution_count": 172,
   "metadata": {},
   "outputs": [
    {
     "name": "stdout",
     "output_type": "stream",
     "text": [
      "nameOfIssuer ADR JUMEI INTL HLDG LTD\n",
      "titleOfClass COM\n",
      "cusip 48138L107\n",
      "value 248\n",
      "sshPrnamt 116246\n",
      "sshPrnamtType SH\n",
      "investmentDiscretion SOLE\n",
      "Sole 116246\n",
      "Shared 0\n",
      "None 0\n",
      ">>>>>>>>>>>>>>>>>>>>\n",
      "\n",
      "nameOfIssuer ADR MOMO INC ADR\n",
      "titleOfClass COM\n",
      "cusip 60879B107\n",
      "value 551\n",
      "sshPrnamt 12585\n",
      "sshPrnamtType SH\n",
      "investmentDiscretion SOLE\n",
      "Sole 12585\n",
      "Shared 0\n",
      "None 0\n",
      ">>>>>>>>>>>>>>>>>>>>\n",
      "\n",
      "nameOfIssuer ADR NOAH HOLDINGS\n",
      "titleOfClass COM\n",
      "cusip 65487X102\n",
      "value 331\n",
      "sshPrnamt 7853\n",
      "sshPrnamtType SH\n",
      "investmentDiscretion SOLE\n",
      "Sole 7853\n",
      "Shared 0\n",
      "None 0\n",
      ">>>>>>>>>>>>>>>>>>>>\n",
      "\n",
      "nameOfIssuer ADR PPDAI GROUP INC\n",
      "titleOfClass COM\n",
      "cusip 69354V108\n",
      "value 987\n",
      "sshPrnamt 183546\n",
      "sshPrnamtType SH\n",
      "investmentDiscretion SOLE\n",
      "Sole 183546\n",
      "Shared 0\n",
      "None 0\n",
      ">>>>>>>>>>>>>>>>>>>>\n",
      "\n",
      "nameOfIssuer EAGLE PHARMACEUTICALS INC\n",
      "titleOfClass COM\n",
      "cusip 269796108\n",
      "value 1047\n",
      "sshPrnamt 15097\n",
      "sshPrnamtType SH\n",
      "investmentDiscretion SOLE\n",
      "Sole 15097\n",
      "Shared 0\n",
      "None 0\n",
      ">>>>>>>>>>>>>>>>>>>>\n",
      "\n",
      "nameOfIssuer HERSHEY COMPANY COM STK USD1\n",
      "titleOfClass COM\n",
      "cusip 427866108\n",
      "value 841869\n",
      "sshPrnamt 8253621\n",
      "sshPrnamtType SH\n",
      "investmentDiscretion DFND\n",
      "Sole 0\n",
      "Shared 8253621\n",
      "None 0\n",
      ">>>>>>>>>>>>>>>>>>>>\n",
      "\n",
      "nameOfIssuer Hershey Company (The) - Class B\n",
      "titleOfClass COM\n",
      "cusip 427866306\n",
      "value 6182425\n",
      "sshPrnamt 60612012\n",
      "sshPrnamtType SH\n",
      "investmentDiscretion DFND\n",
      "Sole 0\n",
      "Shared 60612012\n",
      "None 0\n",
      ">>>>>>>>>>>>>>>>>>>>\n",
      "\n",
      "nameOfIssuer ICHOR HOLDINGS LTD\n",
      "titleOfClass COM\n",
      "cusip G4740B105\n",
      "value 185\n",
      "sshPrnamt 9043\n",
      "sshPrnamtType SH\n",
      "investmentDiscretion SOLE\n",
      "Sole 9043\n",
      "Shared 0\n",
      "None 0\n",
      ">>>>>>>>>>>>>>>>>>>>\n",
      "\n",
      "nameOfIssuer Marathon Oil Corp\n",
      "titleOfClass COM\n",
      "cusip 565849106\n",
      "value 3\n",
      "sshPrnamt 134\n",
      "sshPrnamtType SH\n",
      "investmentDiscretion SOLE\n",
      "Sole 134\n",
      "Shared 0\n",
      "None 0\n",
      ">>>>>>>>>>>>>>>>>>>>\n",
      "\n",
      "nameOfIssuer OKTA INC CL A\n",
      "titleOfClass COM\n",
      "cusip 679295105\n",
      "value 51\n",
      "sshPrnamt 718\n",
      "sshPrnamtType SH\n",
      "investmentDiscretion SOLE\n",
      "Sole 718\n",
      "Shared 0\n",
      "None 0\n",
      ">>>>>>>>>>>>>>>>>>>>\n",
      "\n",
      "nameOfIssuer SPOTIFY TECHNOLOGY SA\n",
      "titleOfClass COM\n",
      "cusip L8681T102\n",
      "value 320\n",
      "sshPrnamt 1769\n",
      "sshPrnamtType SH\n",
      "investmentDiscretion SOLE\n",
      "Sole 1769\n",
      "Shared 0\n",
      "None 0\n",
      ">>>>>>>>>>>>>>>>>>>>\n",
      "\n",
      "nameOfIssuer VOYAGER THERAPEUTICS INC\n",
      "titleOfClass COM\n",
      "cusip 92915B106\n",
      "value 514\n",
      "sshPrnamt 27190\n",
      "sshPrnamtType SH\n",
      "investmentDiscretion SOLE\n",
      "Sole 27190\n",
      "Shared 0\n",
      "None 0\n",
      ">>>>>>>>>>>>>>>>>>>>\n",
      "\n"
     ]
    }
   ],
   "source": [
    "for info_table in info_tables:\n",
    "    for child in info_table.findChildren():\n",
    "        if child.name and not child.findChildren():\n",
    "            print(child.name, child.find(text=True, recursive=False))\n",
    "    print('>>>>>>>>>>>>>>>>>>>>')\n",
    "    print()"
   ]
  },
  {
   "cell_type": "code",
   "execution_count": 174,
   "metadata": {},
   "outputs": [
    {
     "name": "stdout",
     "output_type": "stream",
     "text": [
      ">>>>>>>>>>>>>>>>>>>>\n",
      "\n",
      ">>>>>>>>>>>>>>>>>>>>\n",
      "\n",
      ">>>>>>>>>>>>>>>>>>>>\n",
      "\n",
      ">>>>>>>>>>>>>>>>>>>>\n",
      "\n",
      ">>>>>>>>>>>>>>>>>>>>\n",
      "\n",
      ">>>>>>>>>>>>>>>>>>>>\n",
      "\n",
      ">>>>>>>>>>>>>>>>>>>>\n",
      "\n",
      ">>>>>>>>>>>>>>>>>>>>\n",
      "\n",
      ">>>>>>>>>>>>>>>>>>>>\n",
      "\n",
      ">>>>>>>>>>>>>>>>>>>>\n",
      "\n",
      ">>>>>>>>>>>>>>>>>>>>\n",
      "\n",
      ">>>>>>>>>>>>>>>>>>>>\n",
      "\n"
     ]
    }
   ],
   "source": [
    "for info_table in info_tables:\n",
    "    issue = {}\n",
    "    for child in info_table.findChildren():\n",
    "        if child.name:\n",
    "            issue[child.name] = child.find(text=True, recursive=False).strip()\n",
    "    issuers.append(issue)\n",
    "    print('>>>>>>>>>>>>>>>>>>>>')\n",
    "    print()"
   ]
  },
  {
   "cell_type": "code",
   "execution_count": 168,
   "metadata": {},
   "outputs": [
    {
     "name": "stdout",
     "output_type": "stream",
     "text": [
      "nameOfIssuer ADR JUMEI INTL HLDG LTD\n",
      "titleOfClass COM\n",
      "cusip 48138L107\n",
      "value 248\n",
      "shrsOrPrnAmt \n",
      "sshPrnamt 116246\n",
      "sshPrnamtType SH\n",
      "investmentDiscretion SOLE\n",
      "votingAuthority \n",
      "Sole 116246\n",
      "Shared 0\n",
      "None 0\n"
     ]
    }
   ],
   "source": [
    "for k,v in issuers[0].items():\n",
    "    print(k, v.strip())"
   ]
  },
  {
   "cell_type": "code",
   "execution_count": 138,
   "metadata": {},
   "outputs": [
    {
     "data": {
      "text/plain": [
       "{'nameOfIssuer': 'ADR JUMEI INTL HLDG LTD',\n",
       " 'titleOfClass': 'COM',\n",
       " 'cusip': '48138L107',\n",
       " 'value': '248',\n",
       " 'sshPrnamt': '116246',\n",
       " 'sshPrnamtType': 'SH',\n",
       " 'investmentDiscretion': 'SOLE',\n",
       " 'Sole': '116246',\n",
       " 'Shared': '0',\n",
       " 'None': '0'}"
      ]
     },
     "execution_count": 138,
     "metadata": {},
     "output_type": "execute_result"
    }
   ],
   "source": [
    "issuers[0]"
   ]
  },
  {
   "cell_type": "code",
   "execution_count": 175,
   "metadata": {},
   "outputs": [],
   "source": [
    "columns = [child.name for child in info_tables[0].findChildren()]"
   ]
  },
  {
   "cell_type": "code",
   "execution_count": 176,
   "metadata": {},
   "outputs": [
    {
     "data": {
      "text/plain": [
       "['nameOfIssuer',\n",
       " 'titleOfClass',\n",
       " 'cusip',\n",
       " 'value',\n",
       " 'shrsOrPrnAmt',\n",
       " 'sshPrnamt',\n",
       " 'sshPrnamtType',\n",
       " 'investmentDiscretion',\n",
       " 'votingAuthority',\n",
       " 'Sole',\n",
       " 'Shared',\n",
       " 'None']"
      ]
     },
     "execution_count": 176,
     "metadata": {},
     "output_type": "execute_result"
    }
   ],
   "source": [
    "columns"
   ]
  },
  {
   "cell_type": "code",
   "execution_count": 155,
   "metadata": {},
   "outputs": [],
   "source": [
    "import pandas"
   ]
  },
  {
   "cell_type": "code",
   "execution_count": 177,
   "metadata": {},
   "outputs": [],
   "source": [
    "df = pandas.DataFrame(issuers)\n",
    "\n",
    "df = df[columns]\n",
    "\n",
    "df.to_csv('issuers2.tsv', sep='\\t')"
   ]
  },
  {
   "cell_type": "code",
   "execution_count": null,
   "metadata": {},
   "outputs": [],
   "source": []
  }
 ],
 "metadata": {
  "kernelspec": {
   "display_name": "Python 3",
   "language": "python",
   "name": "python3"
  },
  "language_info": {
   "codemirror_mode": {
    "name": "ipython",
    "version": 3
   },
   "file_extension": ".py",
   "mimetype": "text/x-python",
   "name": "python",
   "nbconvert_exporter": "python",
   "pygments_lexer": "ipython3",
   "version": "3.6.6"
  }
 },
 "nbformat": 4,
 "nbformat_minor": 2
}
